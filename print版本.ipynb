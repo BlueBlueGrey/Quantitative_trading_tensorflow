{
 "cells": [
  {
   "cell_type": "code",
   "execution_count": 3,
   "metadata": {},
   "outputs": [
    {
     "name": "stdout",
     "output_type": "stream",
     "text": [
      "\n",
      "#1 tensorflow.ver: 1.3.0\n",
      "\n",
      "#2 tensorlayer.ver: 1.6.1\n",
      "\n",
      "#3 keras.ver: 2.0.7\n",
      "\n",
      "#4 nltk.ver: 3.2.4\n",
      "\n",
      "#5 pandas.ver: 0.20.3\n",
      "\n",
      "#6 tushare.ver: 1.2.60\n",
      "\n",
      "#7 matplotlib.ver: 2.0.2\n",
      "\n",
      "#8 plotly.ver: 2.0.15\n",
      "\n",
      "#9 arrow.ver: 0.10.0\n",
      "\n",
      "#10 tflearn.ver:\n"
     ]
    }
   ],
   "source": [
    "# -*- coding: utf-8 -*-\n",
    "'''\n",
    "TopQuant-简称TQ极宽智能量化回溯分析系统，培训课件-配套教学python课件程序\n",
    "\n",
    "Top极宽量化(原zw量化)，Python量化第一品牌 \n",
    "by Top极宽·量化开源团队 2017.10.1 首发\n",
    "\n",
    "网站： www.TopQuant.vip      www.ziwang.com\n",
    "QQ群: Top极宽量化1群，124134140\n",
    "      Top极宽量化2群，650924099\n",
    "      Top极宽量化3群，450853713\n",
    "  \n",
    "'''\n",
    "\n",
    "import tensorflow as tf\n",
    "import tensorlayer as tl\n",
    "import keras as ks\n",
    "import nltk\n",
    "\n",
    "import pandas as pd\n",
    "import tushare as ts\n",
    "import matplotlib as mpl\n",
    "import plotly\n",
    "import arrow\n",
    "\n",
    "#import tflearn\n",
    "tflearn = tf.contrib.learn\n",
    "#-----------------\n",
    "#1\n",
    "print('\\n#1 tensorflow.ver:',tf.__version__)\n",
    "\n",
    "#2\n",
    "print('\\n#2 tensorlayer.ver:',tl.__version__)\n",
    "\n",
    "#3\n",
    "print('\\n#3 keras.ver:',ks.__version__)\n",
    "\n",
    "#4\n",
    "print('\\n#4 nltk.ver:',nltk.__version__)\n",
    "\n",
    "\n",
    "#5\n",
    "print('\\n#5 pandas.ver:',pd.__version__)\n",
    "\n",
    "#6\n",
    "print('\\n#6 tushare.ver:',ts.__version__)\n",
    "\n",
    "#7\n",
    "print('\\n#7 matplotlib.ver:',mpl.__version__)\n",
    "\n",
    "#8\n",
    "print('\\n#8 plotly.ver:',plotly.__version__)\n",
    "\n",
    "\n",
    "#9\n",
    "print('\\n#9 arrow.ver:',arrow.__version__)\n",
    "\n",
    "\n",
    "#10\n",
    "print('\\n#10 tflearn.ver:')\n",
    "\n",
    "# pip install tensorflow==1.3.0\n",
    "# pip install tensorlayer==1.6.1\n",
    "# pip install keras==2.0.7\n",
    "# pip install nltk==3.2.4\n",
    "# pip install pandas==0.20.3\n",
    "# pip install tushare\n",
    "# pip install matplotlib==2.0.2\n",
    "# pip install plotly==2.0.15\n",
    "# pip install arrow==0.10.0\n",
    "# pip install tflearn\n",
    "# pip install pypinyin\n",
    "# pip install robobrowser"
   ]
  },
  {
   "cell_type": "code",
   "execution_count": 1,
   "metadata": {
    "scrolled": true
   },
   "outputs": [
    {
     "name": "stdout",
     "output_type": "stream",
     "text": [
      "Collecting tushare==0.8.7\n",
      "  Using cached tushare-0.8.7.tar.gz (97 kB)\n",
      "\u001b[31m    ERROR: Command errored out with exit status 1:\n",
      "     command: /Users/bluegrey/py3env/bin/python3 -c 'import sys, setuptools, tokenize; sys.argv[0] = '\"'\"'/private/var/folders/7n/dry45zqd0gs0m5_zgm0xfzqh0000gn/T/pip-install-v095_1ms/tushare/setup.py'\"'\"'; __file__='\"'\"'/private/var/folders/7n/dry45zqd0gs0m5_zgm0xfzqh0000gn/T/pip-install-v095_1ms/tushare/setup.py'\"'\"';f=getattr(tokenize, '\"'\"'open'\"'\"', open)(__file__);code=f.read().replace('\"'\"'\\r\\n'\"'\"', '\"'\"'\\n'\"'\"');f.close();exec(compile(code, __file__, '\"'\"'exec'\"'\"'))' egg_info --egg-base /private/var/folders/7n/dry45zqd0gs0m5_zgm0xfzqh0000gn/T/pip-pip-egg-info-_0opk604\n",
      "         cwd: /private/var/folders/7n/dry45zqd0gs0m5_zgm0xfzqh0000gn/T/pip-install-v095_1ms/tushare/\n",
      "    Complete output (1 lines):\n",
      "    error in tushare setup command: 'install_requires' must be a string or list of strings containing valid project/version requirement specifiers; Unordered types are not allowed\n",
      "    ----------------------------------------\u001b[0m\n",
      "\u001b[31mERROR: Command errored out with exit status 1: python setup.py egg_info Check the logs for full command output.\u001b[0m\n",
      "Note: you may need to restart the kernel to use updated packages.\n"
     ]
    }
   ],
   "source": [
    "pip install tushare==0.8.7"
   ]
  },
  {
   "cell_type": "code",
   "execution_count": 4,
   "metadata": {},
   "outputs": [
    {
     "ename": "SyntaxError",
     "evalue": "invalid syntax (<ipython-input-4-947663d4f1cc>, line 1)",
     "output_type": "error",
     "traceback": [
      "\u001b[0;36m  File \u001b[0;32m\"<ipython-input-4-947663d4f1cc>\"\u001b[0;36m, line \u001b[0;32m1\u001b[0m\n\u001b[0;31m    print(.__version)\u001b[0m\n\u001b[0m          ^\u001b[0m\n\u001b[0;31mSyntaxError\u001b[0m\u001b[0;31m:\u001b[0m invalid syntax\n"
     ]
    }
   ],
   "source": [
    "print(.__version)"
   ]
  },
  {
   "cell_type": "code",
   "execution_count": 5,
   "metadata": {},
   "outputs": [
    {
     "name": "stdout",
     "output_type": "stream",
     "text": [
      "当前python版本 3.6.4 (v3.6.4:d48ecebad5, Dec 18 2017, 21:07:28) \n",
      "[GCC 4.2.1 (Apple Inc. build 5666) (dot 3)]\n"
     ]
    }
   ],
   "source": [
    "import sys\n",
    "print(\"当前python版本\",sys.version)"
   ]
  },
  {
   "cell_type": "code",
   "execution_count": 9,
   "metadata": {},
   "outputs": [
    {
     "name": "stdout",
     "output_type": "stream",
     "text": [
      "当前python版本 1.4.1\n"
     ]
    }
   ],
   "source": [
    "import pydot\n",
    "print(\"当前python版本\",pydot.__version__)"
   ]
  },
  {
   "cell_type": "code",
   "execution_count": null,
   "metadata": {},
   "outputs": [],
   "source": [
    "i"
   ]
  }
 ],
 "metadata": {
  "kernelspec": {
   "display_name": "py3env",
   "language": "python",
   "name": "py3env"
  },
  "language_info": {
   "codemirror_mode": {
    "name": "ipython",
    "version": 3
   },
   "file_extension": ".py",
   "mimetype": "text/x-python",
   "name": "python",
   "nbconvert_exporter": "python",
   "pygments_lexer": "ipython3",
   "version": "3.6.4"
  }
 },
 "nbformat": 4,
 "nbformat_minor": 4
}
