{
 "cells": [
  {
   "cell_type": "code",
   "execution_count": 1,
   "metadata": {},
   "outputs": [
    {
     "name": "stderr",
     "output_type": "stream",
     "text": [
      "Using TensorFlow backend.\n"
     ]
    },
    {
     "name": "stdout",
     "output_type": "stream",
     "text": [
      "\n",
      "#1,set.sys\n",
      "\n",
      "#2.1,读取数据\n",
      "\n",
      " xlst\n",
      "['open', 'high', 'low', 'close', 'volume', 'avg', 'ma_2', 'ma_3', 'ma_5', 'ma_10', 'ma_15', 'ma_20', 'ma_25', 'ma_30', 'ma_50', 'ma_100', 'xyear', 'xmonth', 'xday', 'xday_week', 'xday_year', 'xweek_year']\n",
      "\n",
      "num_in,num_out: 22 1\n",
      "\n",
      "df_test.tail()\n",
      "      open  high   low  close      volume   avg  ma_2  ma_3  ma_5  ma_10      ...       xyear  xmonth  xday  xday_week  xday_year  xweek_year     y  price  price_next  price_change\n",
      "3065 3.280 3.290 3.270  3.290  858158.000 3.280 3.280 3.280 3.280  3.310      ...        1970       1     1          3          1           0 3.310  3.280       3.310       100.915\n",
      "3066 3.310 3.310 3.270  3.290 1654384.000 3.290 3.290 3.280 3.280  3.310      ...        1970       1     1          3          1           0 3.310  3.290       3.310       100.608\n",
      "3067 3.320 3.320 3.300  3.310 1210668.000 3.310 3.300 3.290 3.290  3.300      ...        1970       1     1          3          1           0 3.310  3.310       3.310       100.000\n",
      "3068 3.310 3.320 3.300  3.320  940023.000 3.310 3.310 3.310 3.290  3.300      ...        1970       1     1          3          1           0 3.300  3.310       3.300        99.698\n",
      "3069 3.290 3.320 3.280  3.320 1136877.000 3.300 3.310 3.310 3.300  3.290      ...        1970       1     1          3          1           0 3.290  3.300       3.290        99.697\n",
      "\n",
      "[5 rows x 26 columns]\n",
      "\n",
      "x_train.shape, (120950, 22)\n",
      "\n",
      "type(x_train), <class 'numpy.ndarray'>\n",
      "\n",
      "#2.2,转换数据格式shape\n",
      "\n",
      "x_train.shape, (120950, 22, 1)\n",
      "\n",
      "type(x_train), <class 'numpy.ndarray'>\n",
      "\n",
      "#3,model建立神经网络模型\n",
      "_________________________________________________________________\n",
      "Layer (type)                 Output Shape              Param #   \n",
      "=================================================================\n",
      "lstm_1 (LSTM)                (None, 176)               125312    \n",
      "_________________________________________________________________\n",
      "dense_1 (Dense)              (None, 1)                 177       \n",
      "=================================================================\n",
      "Total params: 125,489\n",
      "Trainable params: 125,489\n",
      "Non-trainable params: 0\n",
      "_________________________________________________________________\n",
      "\n",
      "#4 模型训练 fit\n",
      "Epoch 1/50\n",
      "120950/120950 [==============================] - 169s - loss: 319.1299 - acc: 0.0022   \n",
      "Epoch 2/50\n",
      "120950/120950 [==============================] - 203s - loss: 173.8524 - acc: 0.0039   \n",
      "Epoch 3/50\n",
      "120950/120950 [==============================] - 175s - loss: 92.9836 - acc: 0.0044   \n",
      "Epoch 4/50\n",
      "120950/120950 [==============================] - 207s - loss: 51.9665 - acc: 0.0051   \n",
      "Epoch 5/50\n",
      "120950/120950 [==============================] - 180s - loss: 30.6334 - acc: 0.0048   \n",
      "Epoch 6/50\n",
      "120950/120950 [==============================] - 132s - loss: 18.9316 - acc: 0.0050   \n",
      "Epoch 7/50\n",
      "120950/120950 [==============================] - 129s - loss: 12.2972 - acc: 0.0049   \n",
      "Epoch 8/50\n",
      "120950/120950 [==============================] - 128s - loss: 8.8299 - acc: 0.0052   \n",
      "Epoch 9/50\n",
      "120950/120950 [==============================] - 127s - loss: 6.7521 - acc: 0.0052   \n",
      "Epoch 10/50\n",
      "120950/120950 [==============================] - 126s - loss: 5.0605 - acc: 0.0058   \n",
      "Epoch 11/50\n",
      "120950/120950 [==============================] - 125s - loss: 3.6968 - acc: 0.0057   \n",
      "Epoch 12/50\n",
      "120950/120950 [==============================] - 125s - loss: 2.9236 - acc: 0.0056   \n",
      "Epoch 13/50\n",
      "120950/120950 [==============================] - 124s - loss: 2.4872 - acc: 0.0061   \n",
      "Epoch 14/50\n",
      "120950/120950 [==============================] - 124s - loss: 2.4097 - acc: 0.0062   \n",
      "Epoch 15/50\n",
      "120950/120950 [==============================] - 123s - loss: 2.3224 - acc: 0.0063   \n",
      "Epoch 16/50\n",
      "120950/120950 [==============================] - 122s - loss: 2.2073 - acc: 0.0063   \n",
      "Epoch 17/50\n",
      "120950/120950 [==============================] - 122s - loss: 2.1363 - acc: 0.0065   \n",
      "Epoch 18/50\n",
      "120950/120950 [==============================] - 122s - loss: 2.1198 - acc: 0.0065   \n",
      "Epoch 19/50\n",
      "120950/120950 [==============================] - 121s - loss: 2.0354 - acc: 0.0066   \n",
      "Epoch 20/50\n",
      "120950/120950 [==============================] - 121s - loss: 1.9881 - acc: 0.0066   \n",
      "Epoch 21/50\n",
      "120950/120950 [==============================] - 122s - loss: 1.9796 - acc: 0.0068   \n",
      "Epoch 22/50\n",
      "120950/120950 [==============================] - 121s - loss: 1.8874 - acc: 0.0070   \n",
      "Epoch 23/50\n",
      "120950/120950 [==============================] - 120s - loss: 1.8858 - acc: 0.0069   \n",
      "Epoch 24/50\n",
      "120950/120950 [==============================] - 121s - loss: 1.8483 - acc: 0.0069   \n",
      "Epoch 25/50\n",
      "120950/120950 [==============================] - 120s - loss: 1.8067 - acc: 0.0069   \n",
      "Epoch 26/50\n",
      "120950/120950 [==============================] - 121s - loss: 1.9282 - acc: 0.0070   \n",
      "Epoch 27/50\n",
      "120950/120950 [==============================] - 117s - loss: 1.8171 - acc: 0.0069   \n",
      "Epoch 28/50\n",
      "120950/120950 [==============================] - 117s - loss: 1.7654 - acc: 0.0072   \n",
      "Epoch 29/50\n",
      "120950/120950 [==============================] - 118s - loss: 1.7695 - acc: 0.0072   \n",
      "Epoch 30/50\n",
      "120950/120950 [==============================] - 119s - loss: 1.7026 - acc: 0.0072   \n",
      "Epoch 31/50\n",
      "120950/120950 [==============================] - 119s - loss: 1.7162 - acc: 0.0071   \n",
      "Epoch 32/50\n",
      "120950/120950 [==============================] - 119s - loss: 1.7751 - acc: 0.0071   \n",
      "Epoch 33/50\n",
      "120950/120950 [==============================] - 119s - loss: 1.7278 - acc: 0.0074   \n",
      "Epoch 34/50\n",
      "120950/120950 [==============================] - 119s - loss: 1.6914 - acc: 0.0072   \n",
      "Epoch 35/50\n",
      "120950/120950 [==============================] - 119s - loss: 1.7074 - acc: 0.0073   \n",
      "Epoch 36/50\n",
      "120950/120950 [==============================] - 120s - loss: 1.6519 - acc: 0.0072   \n",
      "Epoch 37/50\n",
      "120950/120950 [==============================] - 118s - loss: 1.6951 - acc: 0.0073   \n",
      "Epoch 38/50\n",
      "120950/120950 [==============================] - 116s - loss: 1.6747 - acc: 0.0074   \n",
      "Epoch 39/50\n",
      "120950/120950 [==============================] - 117s - loss: 1.6829 - acc: 0.0074   \n",
      "Epoch 40/50\n",
      "120950/120950 [==============================] - 117s - loss: 1.6304 - acc: 0.0074   \n",
      "Epoch 41/50\n",
      "120950/120950 [==============================] - 117s - loss: 1.6312 - acc: 0.0073   \n",
      "Epoch 42/50\n",
      "120950/120950 [==============================] - 118s - loss: 1.6071 - acc: 0.0073   \n",
      "Epoch 43/50\n",
      "120950/120950 [==============================] - 117s - loss: 1.6427 - acc: 0.0074   \n",
      "Epoch 44/50\n",
      "120950/120950 [==============================] - 118s - loss: 1.5835 - acc: 0.0074   \n",
      "Epoch 45/50\n",
      "120950/120950 [==============================] - 117s - loss: 1.6094 - acc: 0.0072   \n",
      "Epoch 46/50\n",
      "120950/120950 [==============================] - 117s - loss: 1.5744 - acc: 0.0074   \n",
      "Epoch 47/50\n",
      "120950/120950 [==============================] - 117s - loss: 1.5561 - acc: 0.0073   \n",
      "Epoch 48/50\n",
      "120950/120950 [==============================] - 117s - loss: 1.5706 - acc: 0.0074   \n",
      "Epoch 49/50\n",
      "120950/120950 [==============================] - 117s - loss: 1.5866 - acc: 0.0073   \n",
      "Epoch 50/50\n",
      "120950/120950 [==============================] - 118s - loss: 1.5267 - acc: 0.0073   \n",
      "6385.39 s, 00:39:42 ,t0, 22:53:16\n",
      "\n",
      "#5 模型预测 predict\n",
      "1.32 s, 00:39:43 ,t0, 00:39:42\n",
      "\n",
      "#6 acc准确度分析\n",
      "\n",
      "ky0=10\n",
      "ky0=10; n_df9,3070,n_dfk,3025\n",
      "acc: 98.53%;  MSE:51.66, MAE:1.28,  RMSE:7.19, r2score:0.98, @ky0:10.00\n"
     ]
    }
   ],
   "source": [
    "# -*- coding: utf-8 -*-\n",
    "'''\n",
    "TopQuant-简称TQ极宽智能量化回溯分析系统，培训课件-配套教学python课件程序\n",
    "\n",
    "Top极宽量化(原zw量化)，Python量化第一品牌 \n",
    "by Top极宽·量化开源团队 2017.10.1 首发\n",
    "\n",
    "网站： www.TopQuant.vip      www.ziwang.com\n",
    "QQ群: Top极宽量化1群，124134140\n",
    "      Top极宽量化2群，650924099\n",
    "      Top极宽量化3群，450853713\n",
    "  \n",
    "'''\n",
    "#1\n",
    "import os,arrow\n",
    "import pandas as pd\n",
    "import numpy as np\n",
    "#2\n",
    "import keras\n",
    "from keras import initializers,models,layers\n",
    "from keras.models import Sequential\n",
    "from keras.layers import Flatten,Dense, Input, Dropout, Embedding,SimpleRNN,Bidirectional,LSTM,Conv1D, GlobalMaxPooling1D,Activation,MaxPooling1D,GlobalAveragePooling1D\n",
    "from keras.optimizers import RMSprop\n",
    "from keras.utils import plot_model\n",
    "\n",
    "#3\n",
    "import tensorlayer as tl\n",
    "import tensorflow as tf\n",
    "\n",
    "#4\n",
    "import zsys\n",
    "import ztools as zt\n",
    "import ztools_str as zstr\n",
    "import ztools_data as zdat\n",
    "import ztools_draw as zdr\n",
    "import ztools_tq as ztq\n",
    "import zpd_talib as zta\n",
    "#\n",
    "import zai_keras as zks\n",
    "\n",
    "#\n",
    "#------------------------------------\n",
    "\n",
    "#1\n",
    "print('\\n#1,set.sys')\n",
    "pd.set_option('display.width', 450)    \n",
    "pd.set_option('display.float_format', zt.xfloat3)    \n",
    "rlog='ailib/log_tmp'\n",
    "if os.path.exists(rlog):tf.gfile.DeleteRecursively(rlog)\n",
    "\n",
    "#2.1 LSTM模型输入数据模型是三维\n",
    "print('\\n#2.1,读取数据')\n",
    "rss,fsgn,ksgn='ailib/TDS/','TDS2_sz50','avg'\n",
    "xlst=zsys.TDS_xlst9\n",
    "zt.prx('xlst',xlst)\n",
    "num_in,num_out=len(xlst),1\n",
    "print('\\nnum_in,num_out:',num_in,num_out)\n",
    "\n",
    "#\n",
    "df_train,df_test,x_train,y_train,x_test, y_test=zdat.frd_TDS(rss,fsgn,ksgn,xlst)\n",
    "print('\\ndf_test.tail()')\n",
    "print(df_test.tail())\n",
    "print('\\nx_train.shape,',x_train.shape)\n",
    "print('\\ntype(x_train),',type(x_train))\n",
    "\n",
    "#\n",
    "#2.2\n",
    "print('\\n#2.2,转换数据格式shape')\n",
    "rxn,txn=x_train.shape[0],x_test.shape[0]\n",
    "x_train,x_test = x_train.reshape(rxn,num_in,-1),x_test.reshape(txn,num_in,-1)\n",
    "print('\\nx_train.shape,',x_train.shape)\n",
    "print('\\ntype(x_train),',type(x_train))\n",
    "\n",
    "\n",
    "\n",
    "#3\n",
    "print('\\n#3,model建立神经网络模型')\n",
    "mx=zks.lstm010(num_in,num_out)\n",
    "#\n",
    "mx.summary()\n",
    "plot_model(mx, to_file='tmp/lstm010.png')\n",
    "\n",
    "\n",
    "#4 模型训练\n",
    "print('\\n#4 模型训练 fit')\n",
    "tbCallBack = keras.callbacks.TensorBoard(log_dir=rlog,write_graph=True, write_images=True)\n",
    "tn0=arrow.now()\n",
    "mx.fit(x_train, y_train, epochs=50, batch_size=512,callbacks=[tbCallBack])\n",
    "tn=zt.timNSec('',tn0,True)\n",
    "mx.save('tmp/lstm010.dat')\n",
    "\n",
    "#5 利用模型进行预测 predict\n",
    "print('\\n#5 模型预测 predict')\n",
    "tn0=arrow.now()\n",
    "y_pred = mx.predict(x_test)\n",
    "tn=zt.timNSec('',tn0,True)\n",
    "df_test['y_pred']=zdat.ds4x(y_pred,df_test.index,True)\n",
    "df_test.to_csv('tmp/df_lstm010.csv',index=False)\n",
    "\n",
    "\n",
    "#6\n",
    "print('\\n#6 acc准确度分析')\n",
    "print('\\nky0=10')\n",
    "df=df_test\n",
    "dacc,dfx,a10=ztq.ai_acc_xed2ext(df.y,df.y_pred,ky0=10,fgDebug=True)\n"
   ]
  },
  {
   "cell_type": "code",
   "execution_count": 5,
   "metadata": {},
   "outputs": [
    {
     "name": "stdout",
     "output_type": "stream",
     "text": [
      "[[ 0  1  2  3  4  5  6  7]\n",
      " [ 8  9 10 11 12 13 14 15]]\n"
     ]
    }
   ],
   "source": [
    "# numpy 中reshape函数的三种常见相关用法 https://blog.csdn.net/qq_29831163/article/details/90112000\n",
    "\n",
    "arr=np.arange(16).reshape(2,8)\n",
    "print(arr)"
   ]
  },
  {
   "cell_type": "code",
   "execution_count": 6,
   "metadata": {},
   "outputs": [
    {
     "data": {
      "text/plain": [
       "(2, 8)"
      ]
     },
     "execution_count": 6,
     "metadata": {},
     "output_type": "execute_result"
    }
   ],
   "source": [
    "arr.shape"
   ]
  },
  {
   "cell_type": "code",
   "execution_count": 8,
   "metadata": {},
   "outputs": [
    {
     "data": {
      "text/plain": [
       "array([[ 0,  1,  2,  3],\n",
       "       [ 4,  5,  6,  7],\n",
       "       [ 8,  9, 10, 11],\n",
       "       [12, 13, 14, 15]])"
      ]
     },
     "execution_count": 8,
     "metadata": {},
     "output_type": "execute_result"
    }
   ],
   "source": [
    "arr.reshape(4,-1)"
   ]
  },
  {
   "cell_type": "code",
   "execution_count": 9,
   "metadata": {},
   "outputs": [
    {
     "data": {
      "text/plain": [
       "array([[ 0,  1],\n",
       "       [ 2,  3],\n",
       "       [ 4,  5],\n",
       "       [ 6,  7],\n",
       "       [ 8,  9],\n",
       "       [10, 11],\n",
       "       [12, 13],\n",
       "       [14, 15]])"
      ]
     },
     "execution_count": 9,
     "metadata": {},
     "output_type": "execute_result"
    }
   ],
   "source": [
    "arr.reshape(8,-1)"
   ]
  },
  {
   "cell_type": "code",
   "execution_count": 10,
   "metadata": {},
   "outputs": [
    {
     "data": {
      "text/plain": [
       "array([[ 0,  1,  2,  3,  4,  5,  6,  7],\n",
       "       [ 8,  9, 10, 11, 12, 13, 14, 15]])"
      ]
     },
     "execution_count": 10,
     "metadata": {},
     "output_type": "execute_result"
    }
   ],
   "source": [
    "arr.reshape(-1,8)"
   ]
  },
  {
   "cell_type": "code",
   "execution_count": 11,
   "metadata": {},
   "outputs": [
    {
     "data": {
      "text/plain": [
       "array([ 1,  3,  5,  7,  9, 11])"
      ]
     },
     "execution_count": 11,
     "metadata": {},
     "output_type": "execute_result"
    }
   ],
   "source": [
    "\n",
    "np.arange(1,13,2)"
   ]
  },
  {
   "cell_type": "code",
   "execution_count": 3,
   "metadata": {},
   "outputs": [
    {
     "name": "stdout",
     "output_type": "stream",
     "text": [
      "(4072956, 17)\n"
     ]
    },
    {
     "data": {
      "text/html": [
       "<div>\n",
       "<style scoped>\n",
       "    .dataframe tbody tr th:only-of-type {\n",
       "        vertical-align: middle;\n",
       "    }\n",
       "\n",
       "    .dataframe tbody tr th {\n",
       "        vertical-align: top;\n",
       "    }\n",
       "\n",
       "    .dataframe thead th {\n",
       "        text-align: right;\n",
       "    }\n",
       "</style>\n",
       "<table border=\"1\" class=\"dataframe\">\n",
       "  <thead>\n",
       "    <tr style=\"text-align: right;\">\n",
       "      <th></th>\n",
       "      <th>Unnamed: 0</th>\n",
       "      <th>time</th>\n",
       "      <th>assetCode</th>\n",
       "      <th>assetName</th>\n",
       "      <th>volume</th>\n",
       "      <th>close</th>\n",
       "      <th>open</th>\n",
       "      <th>returnsClosePrevRaw1</th>\n",
       "      <th>returnsOpenPrevRaw1</th>\n",
       "      <th>returnsClosePrevMktres1</th>\n",
       "      <th>returnsOpenPrevMktres1</th>\n",
       "      <th>returnsClosePrevRaw10</th>\n",
       "      <th>returnsOpenPrevRaw10</th>\n",
       "      <th>returnsClosePrevMktres10</th>\n",
       "      <th>returnsOpenPrevMktres10</th>\n",
       "      <th>returnsOpenNextMktres10</th>\n",
       "      <th>universe</th>\n",
       "    </tr>\n",
       "  </thead>\n",
       "  <tbody>\n",
       "    <tr>\n",
       "      <th>0</th>\n",
       "      <td>0</td>\n",
       "      <td>2007-02-01 22:00:00+00:00</td>\n",
       "      <td>A.N</td>\n",
       "      <td>Agilent Technologies Inc</td>\n",
       "      <td>2606900.000</td>\n",
       "      <td>32.190</td>\n",
       "      <td>32.170</td>\n",
       "      <td>0.006</td>\n",
       "      <td>0.005</td>\n",
       "      <td>nan</td>\n",
       "      <td>nan</td>\n",
       "      <td>-0.002</td>\n",
       "      <td>0.001</td>\n",
       "      <td>nan</td>\n",
       "      <td>nan</td>\n",
       "      <td>0.035</td>\n",
       "      <td>1.000</td>\n",
       "    </tr>\n",
       "    <tr>\n",
       "      <th>1</th>\n",
       "      <td>1</td>\n",
       "      <td>2007-02-01 22:00:00+00:00</td>\n",
       "      <td>AAI.N</td>\n",
       "      <td>AirTran Holdings Inc</td>\n",
       "      <td>2051600.000</td>\n",
       "      <td>11.120</td>\n",
       "      <td>11.080</td>\n",
       "      <td>0.005</td>\n",
       "      <td>-0.007</td>\n",
       "      <td>nan</td>\n",
       "      <td>nan</td>\n",
       "      <td>-0.079</td>\n",
       "      <td>-0.088</td>\n",
       "      <td>nan</td>\n",
       "      <td>nan</td>\n",
       "      <td>0.028</td>\n",
       "      <td>0.000</td>\n",
       "    </tr>\n",
       "    <tr>\n",
       "      <th>2</th>\n",
       "      <td>2</td>\n",
       "      <td>2007-02-01 22:00:00+00:00</td>\n",
       "      <td>AAP.N</td>\n",
       "      <td>Advance Auto Parts Inc</td>\n",
       "      <td>1164800.000</td>\n",
       "      <td>37.510</td>\n",
       "      <td>37.990</td>\n",
       "      <td>-0.012</td>\n",
       "      <td>0.026</td>\n",
       "      <td>nan</td>\n",
       "      <td>nan</td>\n",
       "      <td>0.014</td>\n",
       "      <td>0.045</td>\n",
       "      <td>nan</td>\n",
       "      <td>nan</td>\n",
       "      <td>0.024</td>\n",
       "      <td>1.000</td>\n",
       "    </tr>\n",
       "    <tr>\n",
       "      <th>3</th>\n",
       "      <td>3</td>\n",
       "      <td>2007-02-01 22:00:00+00:00</td>\n",
       "      <td>AAPL.O</td>\n",
       "      <td>Apple Inc</td>\n",
       "      <td>23747329.000</td>\n",
       "      <td>84.740</td>\n",
       "      <td>86.230</td>\n",
       "      <td>-0.012</td>\n",
       "      <td>0.016</td>\n",
       "      <td>nan</td>\n",
       "      <td>nan</td>\n",
       "      <td>-0.049</td>\n",
       "      <td>-0.037</td>\n",
       "      <td>nan</td>\n",
       "      <td>nan</td>\n",
       "      <td>-0.007</td>\n",
       "      <td>1.000</td>\n",
       "    </tr>\n",
       "    <tr>\n",
       "      <th>4</th>\n",
       "      <td>4</td>\n",
       "      <td>2007-02-01 22:00:00+00:00</td>\n",
       "      <td>ABB.N</td>\n",
       "      <td>ABB Ltd</td>\n",
       "      <td>1208600.000</td>\n",
       "      <td>18.020</td>\n",
       "      <td>18.010</td>\n",
       "      <td>0.012</td>\n",
       "      <td>0.025</td>\n",
       "      <td>nan</td>\n",
       "      <td>nan</td>\n",
       "      <td>0.013</td>\n",
       "      <td>0.020</td>\n",
       "      <td>nan</td>\n",
       "      <td>nan</td>\n",
       "      <td>-0.018</td>\n",
       "      <td>1.000</td>\n",
       "    </tr>\n",
       "    <tr>\n",
       "      <th>5</th>\n",
       "      <td>5</td>\n",
       "      <td>2007-02-01 22:00:00+00:00</td>\n",
       "      <td>ABC.N</td>\n",
       "      <td>AmerisourceBergen Corp</td>\n",
       "      <td>1657300.000</td>\n",
       "      <td>52.370</td>\n",
       "      <td>52.400</td>\n",
       "      <td>-0.000</td>\n",
       "      <td>0.008</td>\n",
       "      <td>nan</td>\n",
       "      <td>nan</td>\n",
       "      <td>0.089</td>\n",
       "      <td>0.078</td>\n",
       "      <td>nan</td>\n",
       "      <td>nan</td>\n",
       "      <td>0.059</td>\n",
       "      <td>1.000</td>\n",
       "    </tr>\n",
       "    <tr>\n",
       "      <th>6</th>\n",
       "      <td>6</td>\n",
       "      <td>2007-02-01 22:00:00+00:00</td>\n",
       "      <td>ABD.N</td>\n",
       "      <td>ACCO Brands Corp</td>\n",
       "      <td>1186200.000</td>\n",
       "      <td>23.630</td>\n",
       "      <td>24.130</td>\n",
       "      <td>-0.021</td>\n",
       "      <td>-0.007</td>\n",
       "      <td>nan</td>\n",
       "      <td>nan</td>\n",
       "      <td>0.005</td>\n",
       "      <td>0.027</td>\n",
       "      <td>nan</td>\n",
       "      <td>nan</td>\n",
       "      <td>-0.044</td>\n",
       "      <td>0.000</td>\n",
       "    </tr>\n",
       "  </tbody>\n",
       "</table>\n",
       "</div>"
      ],
      "text/plain": [
       "   Unnamed: 0                       time assetCode                 assetName       volume  close   open  returnsClosePrevRaw1  returnsOpenPrevRaw1  returnsClosePrevMktres1  returnsOpenPrevMktres1  returnsClosePrevRaw10  returnsOpenPrevRaw10  returnsClosePrevMktres10  returnsOpenPrevMktres10  returnsOpenNextMktres10  universe\n",
       "0           0  2007-02-01 22:00:00+00:00       A.N  Agilent Technologies Inc  2606900.000 32.190 32.170                 0.006                0.005                      nan                     nan                 -0.002                 0.001                       nan                      nan                    0.035     1.000\n",
       "1           1  2007-02-01 22:00:00+00:00     AAI.N      AirTran Holdings Inc  2051600.000 11.120 11.080                 0.005               -0.007                      nan                     nan                 -0.079                -0.088                       nan                      nan                    0.028     0.000\n",
       "2           2  2007-02-01 22:00:00+00:00     AAP.N    Advance Auto Parts Inc  1164800.000 37.510 37.990                -0.012                0.026                      nan                     nan                  0.014                 0.045                       nan                      nan                    0.024     1.000\n",
       "3           3  2007-02-01 22:00:00+00:00    AAPL.O                 Apple Inc 23747329.000 84.740 86.230                -0.012                0.016                      nan                     nan                 -0.049                -0.037                       nan                      nan                   -0.007     1.000\n",
       "4           4  2007-02-01 22:00:00+00:00     ABB.N                   ABB Ltd  1208600.000 18.020 18.010                 0.012                0.025                      nan                     nan                  0.013                 0.020                       nan                      nan                   -0.018     1.000\n",
       "5           5  2007-02-01 22:00:00+00:00     ABC.N    AmerisourceBergen Corp  1657300.000 52.370 52.400                -0.000                0.008                      nan                     nan                  0.089                 0.078                       nan                      nan                    0.059     1.000\n",
       "6           6  2007-02-01 22:00:00+00:00     ABD.N          ACCO Brands Corp  1186200.000 23.630 24.130                -0.021               -0.007                      nan                     nan                  0.005                 0.027                       nan                      nan                   -0.044     0.000"
      ]
     },
     "execution_count": 3,
     "metadata": {},
     "output_type": "execute_result"
    }
   ],
   "source": [
    "market_data=pd.read_csv('/Users/bluegrey/Downloads/market_train_full.csv')\n",
    "print(market_data.shape)\n",
    "# (4072956, 17)\n",
    "\n",
    "market_data.head(7)"
   ]
  },
  {
   "cell_type": "code",
   "execution_count": 4,
   "metadata": {},
   "outputs": [
    {
     "data": {
      "text/plain": [
       "Unnamed: 0                      0\n",
       "time                            0\n",
       "assetCode                       0\n",
       "assetName                       0\n",
       "volume                          0\n",
       "close                           0\n",
       "open                            0\n",
       "returnsClosePrevRaw1            0\n",
       "returnsOpenPrevRaw1             0\n",
       "returnsClosePrevMktres1     15980\n",
       "returnsOpenPrevMktres1      15988\n",
       "returnsClosePrevRaw10           0\n",
       "returnsOpenPrevRaw10            0\n",
       "returnsClosePrevMktres10    93010\n",
       "returnsOpenPrevMktres10     93054\n",
       "returnsOpenNextMktres10         0\n",
       "universe                        0\n",
       "dtype: int64"
      ]
     },
     "execution_count": 4,
     "metadata": {},
     "output_type": "execute_result"
    }
   ],
   "source": [
    "market_data.isnull().sum()"
   ]
  },
  {
   "cell_type": "code",
   "execution_count": 5,
   "metadata": {},
   "outputs": [
    {
     "name": "stdout",
     "output_type": "stream",
     "text": [
      "<class 'pandas.core.frame.DataFrame'>\n",
      "RangeIndex: 4072956 entries, 0 to 4072955\n",
      "Data columns (total 17 columns):\n",
      "Unnamed: 0                  int64\n",
      "time                        object\n",
      "assetCode                   object\n",
      "assetName                   object\n",
      "volume                      float64\n",
      "close                       float64\n",
      "open                        float64\n",
      "returnsClosePrevRaw1        float64\n",
      "returnsOpenPrevRaw1         float64\n",
      "returnsClosePrevMktres1     float64\n",
      "returnsOpenPrevMktres1      float64\n",
      "returnsClosePrevRaw10       float64\n",
      "returnsOpenPrevRaw10        float64\n",
      "returnsClosePrevMktres10    float64\n",
      "returnsOpenPrevMktres10     float64\n",
      "returnsOpenNextMktres10     float64\n",
      "universe                    float64\n",
      "dtypes: float64(13), int64(1), object(3)\n",
      "memory usage: 528.3+ MB\n"
     ]
    }
   ],
   "source": [
    "market_data.info()"
   ]
  },
  {
   "cell_type": "code",
   "execution_count": 6,
   "metadata": {},
   "outputs": [
    {
     "name": "stdout",
     "output_type": "stream",
     "text": [
      "<class 'pandas.core.frame.DataFrame'>\n",
      "RangeIndex: 4072956 entries, 0 to 4072955\n",
      "Data columns (total 17 columns):\n",
      "Unnamed: 0                  int64\n",
      "time                        object\n",
      "assetCode                   category\n",
      "assetName                   category\n",
      "volume                      float32\n",
      "close                       float32\n",
      "open                        float32\n",
      "returnsClosePrevRaw1        float32\n",
      "returnsOpenPrevRaw1         float32\n",
      "returnsClosePrevMktres1     float32\n",
      "returnsOpenPrevMktres1      float32\n",
      "returnsClosePrevRaw10       float32\n",
      "returnsOpenPrevRaw10        float32\n",
      "returnsClosePrevMktres10    float32\n",
      "returnsOpenPrevMktres10     float32\n",
      "returnsOpenNextMktres10     float32\n",
      "universe                    bool\n",
      "dtypes: bool(1), category(2), float32(12), int64(1), object(1)\n",
      "memory usage: 268.4+ MB\n"
     ]
    }
   ],
   "source": [
    "for columnname in market_data.columns:\n",
    "    if market_data[columnname].dtype=='float64':\n",
    "        market_data[columnname]=market_data[columnname].astype('float32')\n",
    "\n",
    "market_data['time'] =  pd.to_datetime(market_data['time'], format='%Y-%m-%d %H:%M:%S+00:00')\n",
    "\n",
    "market_data['assetName']=market_data['assetName'].astype('category')\n",
    "market_data['assetCode']=market_data['assetCode'].astype('category')\n",
    "market_data['universe'] = market_data['universe'].astype('bool')\n",
    "market_data.time=market_data.time.dt.date\n",
    "\n",
    "market_data.info()"
   ]
  },
  {
   "cell_type": "code",
   "execution_count": 7,
   "metadata": {},
   "outputs": [
    {
     "ename": "NameError",
     "evalue": "name 'initial' is not defined",
     "output_type": "error",
     "traceback": [
      "\u001b[0;31m---------------------------------------------\u001b[0m",
      "\u001b[0;31mNameError\u001b[0m   Traceback (most recent call last)",
      "\u001b[0;32m<ipython-input-7-3877ff9fd94e>\u001b[0m in \u001b[0;36m<module>\u001b[0;34m\u001b[0m\n\u001b[0;32m----> 1\u001b[0;31m \u001b[0mprint\u001b[0m\u001b[0;34m(\u001b[0m\u001b[0;34m'Memory occupied before downcasting:'\u001b[0m\u001b[0;34m,\u001b[0m\u001b[0minitial\u001b[0m\u001b[0;34m.\u001b[0m\u001b[0msum\u001b[0m\u001b[0;34m(\u001b[0m\u001b[0;34m)\u001b[0m\u001b[0;34m)\u001b[0m\u001b[0;34m\u001b[0m\u001b[0m\n\u001b[0m\u001b[1;32m      2\u001b[0m \u001b[0mprint\u001b[0m\u001b[0;34m(\u001b[0m\u001b[0;34m'Memory occupied after downcasting :'\u001b[0m\u001b[0;34m,\u001b[0m\u001b[0mmarket_data\u001b[0m\u001b[0;34m.\u001b[0m\u001b[0mmemory_usage\u001b[0m\u001b[0;34m(\u001b[0m\u001b[0;34m)\u001b[0m\u001b[0;34m.\u001b[0m\u001b[0msum\u001b[0m\u001b[0;34m(\u001b[0m\u001b[0;34m)\u001b[0m\u001b[0;34m)\u001b[0m\u001b[0;34m\u001b[0m\u001b[0m\n\u001b[1;32m      3\u001b[0m \u001b[0mprint\u001b[0m\u001b[0;34m(\u001b[0m\u001b[0;34m'Total memory saved                :'\u001b[0m\u001b[0;34m,\u001b[0m\u001b[0mround\u001b[0m\u001b[0;34m(\u001b[0m\u001b[0mmarket_data\u001b[0m\u001b[0;34m.\u001b[0m\u001b[0mmemory_usage\u001b[0m\u001b[0;34m(\u001b[0m\u001b[0;34m)\u001b[0m\u001b[0;34m.\u001b[0m\u001b[0msum\u001b[0m\u001b[0;34m(\u001b[0m\u001b[0;34m)\u001b[0m\u001b[0;34m*\u001b[0m\u001b[0;36m100\u001b[0m\u001b[0;34m/\u001b[0m\u001b[0minitial\u001b[0m\u001b[0;34m.\u001b[0m\u001b[0msum\u001b[0m\u001b[0;34m(\u001b[0m\u001b[0;34m)\u001b[0m\u001b[0;34m,\u001b[0m \u001b[0;36m2\u001b[0m\u001b[0;34m)\u001b[0m\u001b[0;34m,\u001b[0m\u001b[0;34m'%'\u001b[0m\u001b[0;34m)\u001b[0m\u001b[0;34m\u001b[0m\u001b[0m\n",
      "\u001b[0;31mNameError\u001b[0m: name 'initial' is not defined"
     ]
    }
   ],
   "source": [
    "print('Memory occupied before downcasting:',initial.sum())\n",
    "print('Memory occupied after downcasting :',market_data.memory_usage().sum())\n",
    "print('Total memory saved                :',round(market_data.memory_usage().sum()*100/initial.sum(), 2),'%')"
   ]
  },
  {
   "cell_type": "code",
   "execution_count": null,
   "metadata": {},
   "outputs": [],
   "source": []
  },
  {
   "cell_type": "code",
   "execution_count": null,
   "metadata": {},
   "outputs": [],
   "source": []
  },
  {
   "cell_type": "code",
   "execution_count": null,
   "metadata": {},
   "outputs": [],
   "source": []
  },
  {
   "cell_type": "code",
   "execution_count": null,
   "metadata": {},
   "outputs": [],
   "source": [
    "market_data=pd.read_csv('/Users/bluegrey/Downloads/market_train_from.csv')\n",
    "print(market_data.shape)\n",
    "# (4072956, 17)\n",
    "\n",
    "market_data.head(7)"
   ]
  },
  {
   "cell_type": "code",
   "execution_count": null,
   "metadata": {},
   "outputs": [],
   "source": [
    "market_data=pd.read_csv('/Users/bluegrey/Downloads/market_train_full.csv')\n",
    "print(market_data.shape)\n",
    "# (4072956, 17)\n",
    "\n",
    "market_data.head(7)"
   ]
  }
 ],
 "metadata": {
  "kernelspec": {
   "display_name": "py3env",
   "language": "python",
   "name": "py3env"
  },
  "language_info": {
   "codemirror_mode": {
    "name": "ipython",
    "version": 3
   },
   "file_extension": ".py",
   "mimetype": "text/x-python",
   "name": "python",
   "nbconvert_exporter": "python",
   "pygments_lexer": "ipython3",
   "version": "3.6.4"
  }
 },
 "nbformat": 4,
 "nbformat_minor": 4
}
