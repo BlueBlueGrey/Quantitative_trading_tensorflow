{
 "cells": [
  {
   "cell_type": "code",
   "execution_count": 2,
   "metadata": {},
   "outputs": [
    {
     "name": "stdout",
     "output_type": "stream",
     "text": [
      "\n",
      "#1,set.sys\n",
      "\n",
      "#2,读取数据\n",
      "\n",
      "rss,fsgn,ksgn data/TDS/ TDS2_sz50 avg\n",
      "xlst ['open', 'high', 'low', 'close', 'volume', 'avg']\n",
      "\n",
      "df_test.tail()\n",
      "      open  high   low  close      volume   avg     y  price  price_next  price_change\n",
      "3065 3.280 3.290 3.270  3.290  858158.000 3.280 3.310  3.280       3.310       100.915\n",
      "3066 3.310 3.310 3.270  3.290 1654384.000 3.290 3.310  3.290       3.310       100.608\n",
      "3067 3.320 3.320 3.300  3.310 1210668.000 3.310 3.310  3.310       3.310       100.000\n",
      "3068 3.310 3.320 3.300  3.320  940023.000 3.310 3.300  3.310       3.300        99.698\n",
      "3069 3.290 3.320 3.280  3.320 1136877.000 3.300 3.290  3.300       3.290        99.697\n",
      "\n",
      "#3,数据格式\n",
      "\n",
      "num_x_train,num_y_train: 120950 120950\n",
      "\n",
      "num_x_test,num_y_test: 3070 3070\n",
      "\n",
      "tpye(x_train): <class 'numpy.ndarray'>\n"
     ]
    }
   ],
   "source": [
    "# -*- coding: utf-8 -*-\n",
    "'''\n",
    "TopQuant-简称TQ极宽智能量化回溯分析系统，培训课件-配套教学python课件程序\n",
    "\n",
    "Top极宽量化(原zw量化)，Python量化第一品牌 \n",
    "by Top极宽·量化开源团队 2017.10.1 首发\n",
    "\n",
    "网站： www.TopQuant.vip      www.ziwang.com\n",
    "QQ群: Top极宽量化1群，124134140\n",
    "      Top极宽量化2群，650924099\n",
    "      Top极宽量化3群，450853713\n",
    "  \n",
    "'''\n",
    "\n",
    "import os,ffn\n",
    "import numpy as np\n",
    "import pandas as pd\n",
    "import tushare as ts\n",
    "import plotly as py\n",
    "import plotly.figure_factory  as pyff\n",
    "\n",
    "#  TopQuant\n",
    "import zsys \n",
    "import zpd_talib as zta\n",
    "import ztools as zt\n",
    "import ztools_tq as ztq\n",
    "import ztools_draw as zdr\n",
    "import ztools_data as zdat\n",
    "\n",
    "\n",
    "#----------\n",
    "\n",
    "#1\n",
    "print('\\n#1,set.sys')\n",
    "pd.set_option('display.width', 450)    \n",
    "pd.set_option('display.float_format', zt.xfloat3)    \n",
    "\n",
    "\n",
    "#2\n",
    "print('\\n#2,读取数据')\n",
    "rss,fsgn,ksgn='data/TDS/','TDS2_sz50','avg'\n",
    "\n",
    "#xlst=zsys.TDS_xlst9\n",
    "xlst=zsys.TDS_xlst1\n",
    "print('\\nrss,fsgn,ksgn',rss,fsgn,ksgn)\n",
    "print('xlst',xlst)\n",
    "df_train,df_test,x_train,y_train,x_test, y_test=zdat.frd_TDS(rss,fsgn,ksgn,xlst)\n",
    "#\n",
    "print('\\ndf_test.tail()')\n",
    "print(df_test.tail())\n",
    "\n",
    "#3\n",
    "print('\\n#3,数据格式')\n",
    "num_x_train,num_y_train=x_train.shape[0],y_train.shape[0]\n",
    "num_x_test,num_y_test=x_test.shape[0],x_test.shape[0]\n",
    "\n",
    "print('\\nnum_x_train,num_y_train:',num_x_train,num_y_train)\n",
    "print('\\nnum_x_test,num_y_test:',num_x_test,num_y_test)\n",
    "print('\\ntpye(x_train):',type(x_train))\n"
   ]
  },
  {
   "cell_type": "code",
   "execution_count": null,
   "metadata": {},
   "outputs": [],
   "source": []
  }
 ],
 "metadata": {
  "kernelspec": {
   "display_name": "py3env",
   "language": "python",
   "name": "py3env"
  },
  "language_info": {
   "codemirror_mode": {
    "name": "ipython",
    "version": 3
   },
   "file_extension": ".py",
   "mimetype": "text/x-python",
   "name": "python",
   "nbconvert_exporter": "python",
   "pygments_lexer": "ipython3",
   "version": "3.6.4"
  }
 },
 "nbformat": 4,
 "nbformat_minor": 4
}
