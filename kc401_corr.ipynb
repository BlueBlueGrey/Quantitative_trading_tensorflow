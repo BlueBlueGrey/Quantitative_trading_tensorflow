{
 "cells": [
  {
   "cell_type": "code",
   "execution_count": 11,
   "metadata": {},
   "outputs": [
    {
     "name": "stdout",
     "output_type": "stream",
     "text": [
      "\n",
      "#1,init \n",
      "\n",
      "#2,set.dat\n",
      "\n",
      "#3,set.new dat\n"
     ]
    }
   ],
   "source": [
    "# -*- coding: utf-8 -*-\n",
    "'''\n",
    "TopQuant-简称TQ极宽智能量化回溯分析系统，培训课件-配套教学python课件程序\n",
    "\n",
    "Top极宽量化(原zw量化)，Python量化第一品牌 \n",
    "by Top极宽·量化开源团队 2017.10.1 首发\n",
    "\n",
    "网站： www.TopQuant.vip      www.ziwang.com\n",
    "QQ群: Top极宽量化1群，124134140\n",
    "      Top极宽量化2群，650924099\n",
    "      Top极宽量化3群，450853713\n",
    "  \n",
    "'''\n",
    "\n",
    "import os,ffn\n",
    "import numpy as np\n",
    "import pandas as pd\n",
    "import tushare as ts\n",
    "import plotly as py\n",
    "import plotly.figure_factory  as pyff\n",
    "\n",
    "#  TopQuant\n",
    "import zsys \n",
    "import zpd_talib as zta\n",
    "import ztools as zt\n",
    "import ztools_tq as ztq\n",
    "import ztools_draw as zdr\n",
    "import ztools_data as zdat\n",
    "\n",
    "\n",
    "#----------\n",
    "#1\n",
    "print('\\n#1,init ')\n",
    "pd.set_option('display.width', 450)    \n",
    "pd.set_option('display.float_format', zt.xfloat5)    \n",
    "\n",
    "    \n",
    "\n",
    "\n",
    "#2\n",
    "print('\\n#2,set.dat')\n",
    "df=pd.read_csv('data/002046.csv')\n",
    "df=df.sort_values('date')\n",
    "\n",
    "#3\n",
    "print('\\n#3,set.new dat')\n",
    "df['xopen']=df['open'].shift(-1)\n",
    "\n",
    "\n"
   ]
  },
  {
   "cell_type": "code",
   "execution_count": 12,
   "metadata": {},
   "outputs": [
    {
     "name": "stdout",
     "output_type": "stream",
     "text": [
      "            date    open    high   close     low        volume         amount   xopen\n",
      "3     2016-02-01 8.44000 8.50000 8.11000 8.00000 3718571.00000 30546260.00000 8.22000\n",
      "2     2016-02-02 8.22000 8.63000 8.50000 8.15000 4749541.00000 40346672.00000 8.40000\n",
      "1     2016-02-03 8.40000 8.65000 8.57000 8.23000 3784234.00000 31847344.00000 8.57000\n",
      "0     2016-02-04 8.57000 8.82000 8.78000 8.55000 4433431.00000 38708548.00000 8.76000\n",
      "2530  2016-02-05 8.76000 8.96000 8.72000 8.72000 4712004.00000 41542508.00000     nan\n"
     ]
    }
   ],
   "source": [
    "print(df.tail())"
   ]
  },
  {
   "cell_type": "code",
   "execution_count": 13,
   "metadata": {},
   "outputs": [
    {
     "name": "stdout",
     "output_type": "stream",
     "text": [
      "\n",
      "#4,corr\n",
      "            date    open    high   close     low        volume         amount   xopen   kopen   khigh    klow  kclose\n",
      "3     2016-02-01 8.44000 8.50000 8.11000 8.00000 3718571.00000 30546260.00000 8.22000 0.99496 0.99673 0.99727 0.99933\n",
      "2     2016-02-02 8.22000 8.63000 8.50000 8.15000 4749541.00000 40346672.00000 8.40000 0.99496 0.99673 0.99727 0.99933\n",
      "1     2016-02-03 8.40000 8.65000 8.57000 8.23000 3784234.00000 31847344.00000 8.57000 0.99496 0.99673 0.99727 0.99933\n",
      "0     2016-02-04 8.57000 8.82000 8.78000 8.55000 4433431.00000 38708548.00000 8.76000 0.99496 0.99673 0.99727 0.99933\n",
      "2530  2016-02-05 8.76000 8.96000 8.72000 8.72000 4712004.00000 41542508.00000     nan 0.99496 0.99673 0.99727 0.99933\n",
      "\n",
      "#5,describe\n",
      "            open       high      close        low         volume          amount      xopen      kopen      khigh       klow     kclose\n",
      "count 2531.00000 2531.00000 2531.00000 2531.00000     2531.00000      2531.00000 2530.00000 2531.00000 2531.00000 2531.00000 2531.00000\n",
      "mean     7.01571    7.18598    7.02777    6.86563  4177114.16199  52442418.20269    7.01768    0.99496    0.99673    0.99727    0.99933\n",
      "std      2.94936    3.04282    2.95553    2.86540  5294199.15901  65775698.91657    2.94828    0.00000    0.00000    0.00000    0.00000\n",
      "min      1.90000    1.96000    1.89000    1.84000   226010.00000   1519046.00000    1.90000    0.99496    0.99673    0.99727    0.99933\n",
      "25%      5.11000    5.23000    5.12000    5.00000  1235698.50000  16252776.50000    5.11000    0.99496    0.99673    0.99727    0.99933\n",
      "50%      6.60000    6.74000    6.62000    6.49000  2165597.00000  29504510.00000    6.60000    0.99496    0.99673    0.99727    0.99933\n",
      "75%      8.59000    8.85000    8.65500    8.43000  4440049.50000  57215579.00000    8.59000    0.99496    0.99673    0.99727    0.99933\n",
      "max     20.78000   21.55000   20.25000   19.98000 59404440.00000 605952256.00000   20.78000    0.99496    0.99673    0.99727    0.99933\n",
      "\n",
      "#6,ok\n"
     ]
    }
   ],
   "source": [
    "#4\n",
    "print('\\n#4,corr')\n",
    "df['kopen']=df['xopen'].corr(df['open'])\n",
    "df['khigh']=df['xopen'].corr(df['high'])\n",
    "df['klow']=df['xopen'].corr(df['low'])\n",
    "df['kclose']=df['xopen'].corr(df['close'])\n",
    "\n",
    "print(df.tail())\n",
    "\n",
    "#5\n",
    "print('\\n#5,describe')\n",
    "print(df.describe())\n",
    "\n",
    "#6\n",
    "print('\\n#6,ok')\n"
   ]
  },
  {
   "cell_type": "code",
   "execution_count": 9,
   "metadata": {},
   "outputs": [
    {
     "name": "stdout",
     "output_type": "stream",
     "text": [
      "   A  B\n",
      "0  a  2\n",
      "1  b  4\n",
      "2  a  6\n",
      "3  a  3\n",
      "4  c  6\n",
      "5  d  2\n",
      "6  a  5\n",
      "7  d  8\n",
      "8  a  0\n",
      "9  f  2\n"
     ]
    }
   ],
   "source": [
    "df = pd.DataFrame(data={\n",
    "    'A':list('abaacdadaf'),\n",
    "    'B':[2,4,6,3,6,2,5,8,0,2]\n",
    "})\n",
    "print(df)\n"
   ]
  },
  {
   "cell_type": "code",
   "execution_count": null,
   "metadata": {},
   "outputs": [],
   "source": []
  }
 ],
 "metadata": {
  "kernelspec": {
   "display_name": "py3env",
   "language": "python",
   "name": "py3env"
  },
  "language_info": {
   "codemirror_mode": {
    "name": "ipython",
    "version": 3
   },
   "file_extension": ".py",
   "mimetype": "text/x-python",
   "name": "python",
   "nbconvert_exporter": "python",
   "pygments_lexer": "ipython3",
   "version": "3.6.4"
  }
 },
 "nbformat": 4,
 "nbformat_minor": 4
}
