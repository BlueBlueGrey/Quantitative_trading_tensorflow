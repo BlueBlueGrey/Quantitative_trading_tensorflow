{
 "cells": [
  {
   "cell_type": "code",
   "execution_count": 1,
   "metadata": {},
   "outputs": [
    {
     "name": "stderr",
     "output_type": "stream",
     "text": [
      "Using TensorFlow backend.\n",
      "/Users/bluegrey/py3env/lib/python3.6/site-packages/tensorflow/python/framework/dtypes.py:458: FutureWarning:\n",
      "\n",
      "Passing (type, 1) or '1type' as a synonym of type is deprecated; in a future version of numpy, it will be understood as (type, (1,)) / '(1,)type'.\n",
      "\n",
      "/Users/bluegrey/py3env/lib/python3.6/site-packages/tensorflow/python/framework/dtypes.py:459: FutureWarning:\n",
      "\n",
      "Passing (type, 1) or '1type' as a synonym of type is deprecated; in a future version of numpy, it will be understood as (type, (1,)) / '(1,)type'.\n",
      "\n",
      "/Users/bluegrey/py3env/lib/python3.6/site-packages/tensorflow/python/framework/dtypes.py:460: FutureWarning:\n",
      "\n",
      "Passing (type, 1) or '1type' as a synonym of type is deprecated; in a future version of numpy, it will be understood as (type, (1,)) / '(1,)type'.\n",
      "\n",
      "/Users/bluegrey/py3env/lib/python3.6/site-packages/tensorflow/python/framework/dtypes.py:461: FutureWarning:\n",
      "\n",
      "Passing (type, 1) or '1type' as a synonym of type is deprecated; in a future version of numpy, it will be understood as (type, (1,)) / '(1,)type'.\n",
      "\n",
      "/Users/bluegrey/py3env/lib/python3.6/site-packages/tensorflow/python/framework/dtypes.py:462: FutureWarning:\n",
      "\n",
      "Passing (type, 1) or '1type' as a synonym of type is deprecated; in a future version of numpy, it will be understood as (type, (1,)) / '(1,)type'.\n",
      "\n",
      "/Users/bluegrey/py3env/lib/python3.6/site-packages/tensorflow/python/framework/dtypes.py:465: FutureWarning:\n",
      "\n",
      "Passing (type, 1) or '1type' as a synonym of type is deprecated; in a future version of numpy, it will be understood as (type, (1,)) / '(1,)type'.\n",
      "\n"
     ]
    },
    {
     "name": "stdout",
     "output_type": "stream",
     "text": [
      "hdf5 is not supported on this machine (please install/reinstall h5py for optimal experience)\n",
      "\n",
      "#2,df.tail()\n",
      "             open   high    low  close     volume\n",
      "date                                             \n",
      "2020-02-12  14.79  14.82  14.60  14.77  1070503.0\n",
      "2020-02-13  14.71  14.88  14.61  14.65  1013205.0\n",
      "2020-02-14  14.75  15.14  14.70  15.03  1512434.0\n",
      "2020-02-17  15.04  15.37  14.93  15.37  1543696.0\n",
      "2020-02-18  15.33  15.33  15.01  15.20   973612.0\n",
      "\n",
      "#3,plot-->tmp/tmp_.html\n",
      "\n",
      "#4,ok\n"
     ]
    }
   ],
   "source": [
    "# -*- coding: utf-8 -*-\n",
    "'''\n",
    "TopQuant-简称TQ极宽智能量化回溯分析系统，培训课件-配套教学python课件程序\n",
    "\n",
    "Top极宽量化(原zw量化)，Python量化第一品牌 \n",
    "by Top极宽·量化开源团队 2017.10.1 首发\n",
    "\n",
    "网站： www.TopQuant.vip      www.ziwang.com\n",
    "QQ群: Top极宽量化1群，124134140\n",
    "      Top极宽量化2群，650924099\n",
    "      Top极宽量化3群，450853713\n",
    "  \n",
    "'''\n",
    "\n",
    "import os\n",
    "import numpy as np\n",
    "import pandas as pd\n",
    "import tushare as ts\n",
    "import plotly as py\n",
    "import plotly.figure_factory  as pyff\n",
    "\n",
    "#  TopQuant\n",
    "import zsys \n",
    "import zpd_talib as zta\n",
    "import ztools as zt\n",
    "import ztools_tq as ztq\n",
    "import ztools_draw as zdr\n",
    "import ztools_data as zdat\n",
    "\n",
    "\n",
    "#---------------\n",
    "#1 预处理\n",
    "pd.set_option('display.width', 450)    \n",
    "pyplt=py.offline.plot    \n",
    "#---------------\n",
    "\n",
    "#2\n",
    "xcod='000001'\n",
    "rss=zsys.rdatCNX  #'/zDat/cn/xday/'\n",
    "fss=rss+xcod+'.csv'\n",
    "df=pd.read_csv(fss,index_col=0)\n",
    "df=df.sort_index()\n",
    "print('\\n#2,df.tail()')\n",
    "print(df.tail())\n",
    "\n",
    "#3\n",
    "print('\\n#3,plot-->tmp/tmp_.html')\n",
    "hdr,fss='k线图-指数：'+xcod,'tmp/tmp_.html'\n",
    "df2=df.tail(100)\n",
    "zdr.drDF_cdl(df2,ftg=fss,m_title=hdr)\n",
    "\n",
    "#4\n",
    "print('\\n#4,ok')\n"
   ]
  },
  {
   "cell_type": "code",
   "execution_count": null,
   "metadata": {},
   "outputs": [],
   "source": []
  }
 ],
 "metadata": {
  "kernelspec": {
   "display_name": "py3env",
   "language": "python",
   "name": "py3env"
  },
  "language_info": {
   "codemirror_mode": {
    "name": "ipython",
    "version": 3
   },
   "file_extension": ".py",
   "mimetype": "text/x-python",
   "name": "python",
   "nbconvert_exporter": "python",
   "pygments_lexer": "ipython3",
   "version": "3.6.4"
  }
 },
 "nbformat": 4,
 "nbformat_minor": 4
}
