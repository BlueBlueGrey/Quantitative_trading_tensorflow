{
 "cells": [
  {
   "cell_type": "code",
   "execution_count": 1,
   "metadata": {},
   "outputs": [
    {
     "name": "stderr",
     "output_type": "stream",
     "text": [
      "Using TensorFlow backend.\n"
     ]
    },
    {
     "name": "stdout",
     "output_type": "stream",
     "text": [
      "\n",
      "#2,df.tail()\n",
      "       time  price change  volume  amount  type\n",
      "4  14:56:48  24.12     --      13   31356   buy\n",
      "3  14:56:51  24.13   0.01       7   16891  sell\n",
      "2  14:56:54  24.11  -0.02      30   72330  sell\n",
      "1  14:57:00  24.11     --       0       0  sell\n",
      "0  15:00:03  24.11     --     241  581436  sell\n",
      "\n",
      "#3 @1min\n",
      "                       open   high    low  close  volume    amount                 xtim\n",
      "time                                                                                  \n",
      "2020-10-19 14:54:00  24.15  24.15  24.11  24.15   127.0  308936.0  2020-10-19 14:54:00\n",
      "2020-10-19 14:55:00  24.13  24.15  24.12  24.15   312.0  752630.0  2020-10-19 14:55:00\n",
      "2020-10-19 14:56:00  24.15  24.15  24.11  24.11   204.0  492110.0  2020-10-19 14:56:00\n",
      "2020-10-19 14:57:00  24.11  24.11  24.11  24.11     0.0       0.0  2020-10-19 14:57:00\n",
      "2020-10-19 15:00:00  24.11  24.11  24.11  24.11   241.0  581436.0  2020-10-19 15:00:00\n",
      "\n",
      "#4 @1T\n",
      "                       open   high    low  close  volume    amount                 xtim\n",
      "time                                                                                  \n",
      "2020-10-19 14:54:00  24.15  24.15  24.11  24.15   127.0  308936.0  2020-10-19 14:54:00\n",
      "2020-10-19 14:55:00  24.13  24.15  24.12  24.15   312.0  752630.0  2020-10-19 14:55:00\n",
      "2020-10-19 14:56:00  24.15  24.15  24.11  24.11   204.0  492110.0  2020-10-19 14:56:00\n",
      "2020-10-19 14:57:00  24.11  24.11  24.11  24.11     0.0       0.0  2020-10-19 14:57:00\n",
      "2020-10-19 15:00:00  24.11  24.11  24.11  24.11   241.0  581436.0  2020-10-19 15:00:00\n",
      "\n",
      "#5 @1D\n",
      "             open   high    low  close  volume    amount        xtim\n",
      "time                                                               \n",
      "2020-10-19  24.3  24.45  24.01  24.11   15424  37425434  2020-10-19\n",
      "\n",
      "#6 @30S\n",
      "                       open   high    low  close  volume    amount                 xtim\n",
      "time                                                                                  \n",
      "2020-10-19 14:55:30  24.12  24.15  24.12  24.15    66.0  159225.0  2020-10-19 14:55:30\n",
      "2020-10-19 14:56:00  24.15  24.15  24.12  24.14    88.0  212341.0  2020-10-19 14:56:00\n",
      "2020-10-19 14:56:30  24.12  24.13  24.11  24.11   116.0  279769.0  2020-10-19 14:56:30\n",
      "2020-10-19 14:57:00  24.11  24.11  24.11  24.11     0.0       0.0  2020-10-19 14:57:00\n",
      "2020-10-19 15:00:00  24.11  24.11  24.11  24.11   241.0  581436.0  2020-10-19 15:00:00\n",
      "\n",
      "#7 @15min\n",
      "                       open   high    low  close  volume     amount                 xtim\n",
      "time                                                                                   \n",
      "2020-10-19 14:00:00  24.22  24.32  24.22  24.26   522.0  1267710.0  2020-10-19 14:00:00\n",
      "2020-10-19 14:15:00  24.28  24.35  24.28  24.32  1144.0  2782613.0  2020-10-19 14:15:00\n",
      "2020-10-19 14:30:00  24.32  24.34  24.23  24.24  1045.0  2538851.0  2020-10-19 14:30:00\n",
      "2020-10-19 14:45:00  24.25  24.30  24.11  24.11  2315.0  5627057.0  2020-10-19 14:45:00\n",
      "2020-10-19 15:00:00  24.11  24.11  24.11  24.11   241.0   581436.0  2020-10-19 15:00:00\n",
      "\n",
      "#8,plot-->tmp/tmp_.html\n",
      "\n",
      "#4,ok\n"
     ]
    }
   ],
   "source": [
    "# -*- coding: utf-8 -*-\n",
    "'''\n",
    "TopQuant-简称TQ极宽智能量化回溯分析系统，培训课件-配套教学python课件程序\n",
    "\n",
    "Top极宽量化(原zw量化)，Python量化第一品牌 \n",
    "by Top极宽·量化开源团队 2017.10.1 首发\n",
    "\n",
    "网站： www.TopQuant.vip      www.ziwang.com\n",
    "QQ群: Top极宽量化1群，124134140\n",
    "      Top极宽量化2群，650924099\n",
    "      Top极宽量化3群，450853713\n",
    "  \n",
    "'''\n",
    "\n",
    "import pandas as pd\n",
    "import plotly as py\n",
    "import plotly.figure_factory  as pyff\n",
    "#from plotly.tools import FigureFactory as pyff\n",
    "\n",
    "\n",
    "#\n",
    "import zsys\n",
    "import zpd_talib as zta\n",
    "import ztools as zt\n",
    "import ztools_str as zstr\n",
    "import ztools_draw as zdr\n",
    "import ztools_tq as ztq\n",
    "\n",
    "#\n",
    "#================================\n",
    "#1 预处理\n",
    "pd.set_option('display.width', 450)    \n",
    "pyplt=py.offline.plot    \n",
    "#---------------\n",
    "\n",
    "#2\n",
    "fss='data/tk002645_2016-09-01.csv'\n",
    "df=pd.read_csv(fss,index_col=False)\n",
    "df=df.sort_values('time')\n",
    "print('\\n#2,df.tail()')\n",
    "print(df.tail())\n",
    "\n",
    "#3 1min 和 1T 都是 1 minute\n",
    "df1min=ztq.tick2x(df,ktim='1min')\n",
    "print('\\n#3 @1min\\n',df1min.tail());\n",
    "     \n",
    "#4\n",
    "df1T=ztq.tick2x(df,ktim='1T')\n",
    "print('\\n#4 @1T\\n',df1T.tail());\n",
    "\n",
    "          \n",
    "#5  day\n",
    "df1D=ztq.tick2x(df,ktim='1D')\n",
    "print('\\n#5 @1D\\n',df1D.tail());\n",
    "     \n",
    "#6 30s\n",
    "df30s=ztq.tick2x(df,ktim='30S')\n",
    "print('\\n#6 @30S\\n',df30s.tail());     \n",
    "\n",
    "#7 \n",
    "df15min=ztq.tick2x(df,ktim='15min')\n",
    "print('\\n#7 @15min\\n',df15min.tail());\n",
    "     \n",
    "\n",
    "#8\n",
    "print('\\n#8,plot-->tmp/tmp_.html')\n",
    "hdr,fss='15分钟分时K线图','tmp/tmp_.html'\n",
    "df2=df15min.tail(200)\n",
    "zdr.drDF_cdl(df2,ftg=fss,m_title=hdr)\n",
    "\n",
    "#9\n",
    "print('\\n#4,ok')\n"
   ]
  },
  {
   "cell_type": "code",
   "execution_count": 12,
   "metadata": {},
   "outputs": [
    {
     "name": "stdout",
     "output_type": "stream",
     "text": [
      "Collecting tflearn\n",
      "  Downloading tflearn-0.3.2.tar.gz (98 kB)\n",
      "\u001b[K     |████████████████████████████████| 98 kB 482 kB/s eta 0:00:011\n",
      "\u001b[?25hRequirement already satisfied: numpy in /Users/bluegrey/py3env/lib/python3.6/site-packages (from tflearn) (1.19.2)\n",
      "Requirement already satisfied: six in /Users/bluegrey/py3env/lib/python3.6/site-packages (from tflearn) (1.15.0)\n",
      "Collecting Pillow\n",
      "  Using cached Pillow-7.2.0-cp36-cp36m-macosx_10_10_x86_64.whl (2.2 MB)\n",
      "Building wheels for collected packages: tflearn\n",
      "  Building wheel for tflearn (setup.py) ... \u001b[?25ldone\n",
      "\u001b[?25h  Created wheel for tflearn: filename=tflearn-0.3.2-py3-none-any.whl size=128209 sha256=ecaf09c574247353754d89d395e37106979187e80daa1a8205c9a99fa28cf9e2\n",
      "  Stored in directory: /Users/bluegrey/Library/Caches/pip/wheels/14/e9/35/ac682b1d18f932dc39cf86f25b22bb70df2e80e45851e4f9f3\n",
      "Successfully built tflearn\n",
      "Installing collected packages: Pillow, tflearn\n",
      "Successfully installed Pillow-7.2.0 tflearn-0.3.2\n",
      "Note: you may need to restart the kernel to use updated packages.\n"
     ]
    }
   ],
   "source": [
    "pip install tflearn"
   ]
  },
  {
   "cell_type": "code",
   "execution_count": 9,
   "metadata": {},
   "outputs": [
    {
     "name": "stdout",
     "output_type": "stream",
     "text": [
      "Python version\n",
      "3.6.4 (v3.6.4:d48ecebad5, Dec 18 2017, 21:07:28) \n",
      "[GCC 4.2.1 (Apple Inc. build 5666) (dot 3)]\n",
      "Version info.\n",
      "sys.version_info(major=3, minor=6, micro=4, releaselevel='final', serial=0)\n"
     ]
    }
   ],
   "source": [
    "import sys\n",
    "print(\"Python version\")\n",
    "print (sys.version)\n",
    "print(\"Version info.\")\n",
    "print (sys.version_info)"
   ]
  },
  {
   "cell_type": "code",
   "execution_count": null,
   "metadata": {},
   "outputs": [],
   "source": []
  }
 ],
 "metadata": {
  "kernelspec": {
   "display_name": "py3env",
   "language": "python",
   "name": "py3env"
  },
  "language_info": {
   "codemirror_mode": {
    "name": "ipython",
    "version": 3
   },
   "file_extension": ".py",
   "mimetype": "text/x-python",
   "name": "python",
   "nbconvert_exporter": "python",
   "pygments_lexer": "ipython3",
   "version": "3.6.4"
  }
 },
 "nbformat": 4,
 "nbformat_minor": 4
}
