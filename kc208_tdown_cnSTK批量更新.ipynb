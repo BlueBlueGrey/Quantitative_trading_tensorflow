{
 "cells": [
  {
   "cell_type": "code",
   "execution_count": 1,
   "metadata": {},
   "outputs": [
    {
     "name": "stdout",
     "output_type": "stream",
     "text": [
      "rss: zDat/cn/day/\n"
     ]
    }
   ],
   "source": [
    "# -*- coding: utf-8 -*-\n",
    "'''\n",
    "TopQuant-简称TQ极宽智能量化回溯分析系统，培训课件-配套教学python课件程序\n",
    "\n",
    "Top极宽量化(原zw量化)，Python量化第一品牌 \n",
    "by Top极宽·量化开源团队 2017.10.1 首发\n",
    "\n",
    "网站： www.TopQuant.vip      www.ziwang.com\n",
    "QQ群: Top极宽量化1群，124134140\n",
    "      Top极宽量化2群，650924099\n",
    "      Top极宽量化3群，450853713\n",
    "  \n",
    "'''\n",
    "\n",
    "import os\n",
    "import numpy as np\n",
    "import pandas as pd\n",
    "import tushare as ts\n",
    "\n",
    "#  TopQuant\n",
    "import zsys \n",
    "import ztools_datadown as zddown\n",
    "\n",
    "#----------\n",
    "\n",
    "#1 设置数据目录\n",
    "rss='zDat/cn/day/'\n",
    "print('rss:',rss)\n",
    "\n",
    "\n",
    "#2 设置股票池，批量下载数据\n",
    "#finx='inx\\\\stk_code.csv';\n",
    "finx='data/stk_pool.csv';\n",
    "\n",
    "\n"
   ]
  },
  {
   "cell_type": "code",
   "execution_count": 3,
   "metadata": {},
   "outputs": [
    {
     "name": "stdout",
     "output_type": "stream",
     "text": [
      "data/stk_pool.csv\n",
      "\n",
      " 0 / 10 code, 600000\n",
      "******\n",
      "zDat/cn/day/ 600000 D\n",
      "******\n",
      "\t False zDat/cn/day/600000.csv , 1994-01-01\n",
      "本接口即将停止更新，请尽快使用Pro版接口：https://tushare.pro/document/2\n",
      "\n",
      " 1 / 10 code, 600016\n",
      "******\n",
      "zDat/cn/day/ 600016 D\n",
      "******\n",
      "\t False zDat/cn/day/600016.csv , 1994-01-01\n",
      "本接口即将停止更新，请尽快使用Pro版接口：https://tushare.pro/document/2\n",
      "\n",
      " 2 / 10 code, 600028\n",
      "******\n",
      "zDat/cn/day/ 600028 D\n",
      "******\n",
      "\t False zDat/cn/day/600028.csv , 1994-01-01\n",
      "本接口即将停止更新，请尽快使用Pro版接口：https://tushare.pro/document/2\n",
      "\n",
      " 3 / 10 code, 600029\n",
      "******\n",
      "zDat/cn/day/ 600029 D\n",
      "******\n",
      "\t False zDat/cn/day/600029.csv , 1994-01-01\n",
      "本接口即将停止更新，请尽快使用Pro版接口：https://tushare.pro/document/2\n",
      "\n",
      " 4 / 10 code, 600030\n",
      "******\n",
      "zDat/cn/day/ 600030 D\n",
      "******\n",
      "\t False zDat/cn/day/600030.csv , 1994-01-01\n",
      "本接口即将停止更新，请尽快使用Pro版接口：https://tushare.pro/document/2\n",
      "\n",
      " 5 / 10 code, 600036\n",
      "******\n",
      "zDat/cn/day/ 600036 D\n",
      "******\n",
      "\t False zDat/cn/day/600036.csv , 1994-01-01\n",
      "本接口即将停止更新，请尽快使用Pro版接口：https://tushare.pro/document/2\n",
      "\n",
      " 6 / 10 code, 600048\n",
      "******\n",
      "zDat/cn/day/ 600048 D\n",
      "******\n",
      "\t False zDat/cn/day/600048.csv , 1994-01-01\n",
      "本接口即将停止更新，请尽快使用Pro版接口：https://tushare.pro/document/2\n",
      "\n",
      " 7 / 10 code, 600050\n",
      "******\n",
      "zDat/cn/day/ 600050 D\n",
      "******\n",
      "\t False zDat/cn/day/600050.csv , 1994-01-01\n",
      "本接口即将停止更新，请尽快使用Pro版接口：https://tushare.pro/document/2\n",
      "\n",
      " 8 / 10 code, 600100\n",
      "******\n",
      "zDat/cn/day/ 600100 D\n",
      "******\n",
      "\t False zDat/cn/day/600100.csv , 1994-01-01\n",
      "本接口即将停止更新，请尽快使用Pro版接口：https://tushare.pro/document/2\n",
      "\n",
      " 9 / 10 code, 600104\n",
      "******\n",
      "zDat/cn/day/ 600104 D\n",
      "******\n",
      "\t False zDat/cn/day/600104.csv , 1994-01-01\n",
      "本接口即将停止更新，请尽快使用Pro版接口：https://tushare.pro/document/2\n"
     ]
    }
   ],
   "source": [
    "zddown.down_stk_all(rss,finx,'D')\n",
    "\n",
    "#下载单一股票数据\n",
    "#code='603315'\n",
    "#zddown.down_stk010(rss,code,'D')"
   ]
  },
  {
   "cell_type": "code",
   "execution_count": null,
   "metadata": {},
   "outputs": [],
   "source": []
  }
 ],
 "metadata": {
  "kernelspec": {
   "display_name": "py3env",
   "language": "python",
   "name": "py3env"
  },
  "language_info": {
   "codemirror_mode": {
    "name": "ipython",
    "version": 3
   },
   "file_extension": ".py",
   "mimetype": "text/x-python",
   "name": "python",
   "nbconvert_exporter": "python",
   "pygments_lexer": "ipython3",
   "version": "3.6.4"
  }
 },
 "nbformat": 4,
 "nbformat_minor": 4
}
