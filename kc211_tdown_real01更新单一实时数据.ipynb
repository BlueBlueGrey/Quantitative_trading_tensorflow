{
 "cells": [
  {
   "cell_type": "code",
   "execution_count": 1,
   "metadata": {},
   "outputs": [
    {
     "name": "stdout",
     "output_type": "stream",
     "text": [
      "rss#1: /zDat/real/\n",
      "rss#2: tmp/\n",
      "t 2020-09-21 5\n",
      "\n",
      " tmp/603316.csv , 2020-09-21\n",
      "本接口即将停止更新，请尽快使用Pro版接口：https://tushare.pro/document/2\n",
      "\n",
      "xcod: 603316\n",
      "                 date  open  high   low  close  volume\n",
      "475  2020-09-21 14:40  8.57  8.57  8.55   8.55   380.0\n",
      "476  2020-09-21 14:45  8.55  8.57  8.55   8.56   404.0\n",
      "477  2020-09-21 14:50  8.56  8.56  8.51   8.53  1783.0\n",
      "478  2020-09-21 14:55  8.53  8.55  8.51   8.53   573.0\n",
      "479  2020-09-21 15:00  8.53  8.55  8.53   8.55   671.0\n",
      "\n",
      " tmp/inx_000001.csv , 2020-09-21\n",
      "本接口即将停止更新，请尽快使用Pro版接口：https://tushare.pro/document/2\n",
      "\n",
      "xcod: 000001\n",
      "                 date     open     high      low    close     volume\n",
      "475  2020-09-21 14:40  3313.83  3319.55  3313.12  3319.55  3282923.0\n",
      "476  2020-09-21 14:45  3319.28  3320.31  3317.70  3319.64  3633003.0\n",
      "477  2020-09-21 14:50  3319.90  3319.90  3317.00  3317.00  4200489.0\n",
      "478  2020-09-21 14:55  3317.29  3317.80  3315.42  3315.90  5741785.0\n",
      "479  2020-09-21 15:00  3315.87  3316.95  3315.74  3316.94  4177628.0\n"
     ]
    }
   ],
   "source": [
    "# -*- coding: utf-8 -*-\n",
    "'''\n",
    "TopQuant-简称TQ极宽智能量化回溯分析系统，培训课件-配套教学python课件程序\n",
    "\n",
    "Top极宽量化(原zw量化)，Python量化第一品牌 \n",
    "by Top极宽·量化开源团队 2017.10.1 首发\n",
    "\n",
    "网站： www.TopQuant.vip      www.ziwang.com\n",
    "QQ群: Top极宽量化1群，124134140\n",
    "      Top极宽量化2群，650924099\n",
    "      Top极宽量化3群，450853713\n",
    "  \n",
    "'''\n",
    "\n",
    "import os,arrow  \n",
    "import numpy as np\n",
    "import pandas as pd\n",
    "import tushare as ts\n",
    "\n",
    "#  TopQuant\n",
    "import zsys \n",
    "import ztools as zt\n",
    "import ztools_datadown as zddown\n",
    "import ztools_draw as zdr\n",
    "\n",
    "#----------\n",
    "\n",
    "#1 设置数据文件目录，参数\n",
    "\n",
    "rss=zsys.rdatReal\n",
    "print('rss#1:',rss)\n",
    "rss='tmp/'\n",
    "zt.f_dirDel(rss)  \n",
    "print('rss#2:',rss)\n",
    "#      \n",
    "xtyp='5'\n",
    "tim=arrow.now().format('YYYY-MM-DD')\n",
    "print('t',tim,xtyp)\n",
    "#\n",
    "#2 下载股票实时数据文件\n",
    "xcod='603316'\n",
    "df=zddown.down_min_real010(rss,xcod,xtyp=xtyp,fgIndex=False)\n",
    "print('\\nxcod:',xcod)\n",
    "print(df.tail()) \n",
    "hdr,fss='k线图-'+xcod,'tmp/tmp_'+xcod+'.html'\n",
    "df.index=df['date']\n",
    "zdr.drDF_cdl(df,ftg=fss,m_title=hdr)\n",
    "\n",
    "#\n",
    "#3 下载指数实时数据文件\n",
    "xcod='000001' #上证指数\n",
    "df2=zddown.down_min_real010(rss,xcod,xtyp=xtyp,fgIndex=True)\n",
    "print('\\nxcod:',xcod)\n",
    "print(df2.tail())\n",
    "hdr,fss='k线图-'+xcod,'tmp/tmp_'+xcod+'.html'\n",
    "df2.index=df2['date']\n",
    "zdr.drDF_cdl(df2,ftg=fss,m_title=hdr)\n"
   ]
  },
  {
   "cell_type": "code",
   "execution_count": null,
   "metadata": {},
   "outputs": [],
   "source": []
  }
 ],
 "metadata": {
  "kernelspec": {
   "display_name": "py3env",
   "language": "python",
   "name": "py3env"
  },
  "language_info": {
   "codemirror_mode": {
    "name": "ipython",
    "version": 3
   },
   "file_extension": ".py",
   "mimetype": "text/x-python",
   "name": "python",
   "nbconvert_exporter": "python",
   "pygments_lexer": "ipython3",
   "version": "3.6.4"
  }
 },
 "nbformat": 4,
 "nbformat_minor": 4
}
