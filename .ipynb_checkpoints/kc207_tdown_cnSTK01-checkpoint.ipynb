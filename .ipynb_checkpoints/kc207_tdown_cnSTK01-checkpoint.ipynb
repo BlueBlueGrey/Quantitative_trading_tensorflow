{
 "cells": [
  {
   "cell_type": "code",
   "execution_count": 3,
   "metadata": {},
   "outputs": [
    {
     "name": "stdout",
     "output_type": "stream",
     "text": [
      "rss: tmp/\n",
      "\t True tmp/603315.csv , 2020-09-18\n",
      "本接口即将停止更新，请尽快使用Pro版接口：https://tushare.pro/document/2\n",
      "\n",
      "df\n",
      "           date   open   high    low  close   volume\n",
      "4    2020-09-14  12.20  12.30  12.14  12.21  10514.0\n",
      "3    2020-09-15  12.30  12.55  12.14  12.36  20405.0\n",
      "2    2020-09-16  12.45  12.45  12.16  12.20  11847.0\n",
      "1    2020-09-17  12.21  12.42  12.06  12.25  15099.0\n",
      "174  2020-09-18  12.29  12.34  12.05  12.18  19628.0\n",
      "\n",
      "df2x.tail()\n",
      "\n",
      "fpic, tmp/tmp_.html\n",
      "\n",
      "df2\n",
      "                  date   open   high    low  close   volume\n",
      "date                                                       \n",
      "2020-09-14  2020-09-14  12.20  12.30  12.14  12.21  10514.0\n",
      "2020-09-15  2020-09-15  12.30  12.55  12.14  12.36  20405.0\n",
      "2020-09-16  2020-09-16  12.45  12.45  12.16  12.20  11847.0\n",
      "2020-09-17  2020-09-17  12.21  12.42  12.06  12.25  15099.0\n",
      "2020-09-18  2020-09-18  12.29  12.34  12.05  12.18  19628.0\n"
     ]
    }
   ],
   "source": [
    "# -*- coding: utf-8 -*-\n",
    "'''\n",
    "TopQuant-简称TQ极宽智能量化回溯分析系统，培训课件-配套教学python课件程序\n",
    "\n",
    "Top极宽量化(原zw量化)，Python量化第一品牌 \n",
    "by Top极宽·量化开源团队 2017.10.1 首发\n",
    "\n",
    "网站： www.TopQuant.vip      www.ziwang.com\n",
    "QQ群: Top极宽量化1群，124134140\n",
    "      Top极宽量化2群，650924099\n",
    "      Top极宽量化3群，450853713\n",
    "  \n",
    "'''\n",
    "\n",
    "import os\n",
    "import numpy as np\n",
    "import pandas as pd\n",
    "import tushare as ts\n",
    "\n",
    "#  TopQuant\n",
    "import zsys \n",
    "import ztools as zt\n",
    "import ztools_datadown as zddown\n",
    "import ztools_draw as zdr\n",
    "\n",
    "#----------\n",
    "\n",
    "#1 设置数据目录\n",
    "#rss=zsys.rdatCN\n",
    "rss='tmp/'\n",
    "print('rss:',rss)\n",
    "\n",
    "\n",
    "\n",
    "#2 设置股票代码，下载数据\n",
    "code='603315'\n",
    "# 之前 before\n",
    "# df,fss=zddown.down_stk010(rss,code,'D')\n",
    "\n",
    "# after\n",
    "df=zddown.down_stk010(rss,code,'D')\n",
    "df=df.sort_values(['date'],ascending=True);\n",
    "\n",
    "# before\n",
    "# print('\\nfss,',fss)\n",
    "print('\\ndf')\n",
    "print(df.tail())\n",
    "\n",
    "#3 绘制K线图\n",
    "print('\\ndf2x.tail()')\n",
    "df.index=df['date']\n",
    "df2=df.tail(60)\n",
    "hdr,fpic='k线图·日线数据-'+code,'tmp/tmp_.html'\n",
    "print('\\nfpic,',fpic)\n",
    "print('\\ndf2')\n",
    "print(df2.tail())\n",
    "zdr.drDF_cdl(df2,ftg=fpic,m_title=hdr)\n"
   ]
  },
  {
   "cell_type": "code",
   "execution_count": null,
   "metadata": {},
   "outputs": [],
   "source": []
  }
 ],
 "metadata": {
  "kernelspec": {
   "display_name": "py3env",
   "language": "python",
   "name": "py3env"
  },
  "language_info": {
   "codemirror_mode": {
    "name": "ipython",
    "version": 3
   },
   "file_extension": ".py",
   "mimetype": "text/x-python",
   "name": "python",
   "nbconvert_exporter": "python",
   "pygments_lexer": "ipython3",
   "version": "3.6.4"
  }
 },
 "nbformat": 4,
 "nbformat_minor": 4
}
