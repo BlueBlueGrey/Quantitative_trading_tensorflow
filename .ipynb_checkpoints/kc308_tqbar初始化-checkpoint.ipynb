{
 "cells": [
  {
   "cell_type": "code",
   "execution_count": 1,
   "metadata": {},
   "outputs": [
    {
     "name": "stderr",
     "output_type": "stream",
     "text": [
      "Using TensorFlow backend.\n",
      "/Users/bluegrey/py3env/lib/python3.6/site-packages/tensorflow/python/framework/dtypes.py:458: FutureWarning: Passing (type, 1) or '1type' as a synonym of type is deprecated; in a future version of numpy, it will be understood as (type, (1,)) / '(1,)type'.\n",
      "  _np_qint8 = np.dtype([(\"qint8\", np.int8, 1)])\n",
      "/Users/bluegrey/py3env/lib/python3.6/site-packages/tensorflow/python/framework/dtypes.py:459: FutureWarning: Passing (type, 1) or '1type' as a synonym of type is deprecated; in a future version of numpy, it will be understood as (type, (1,)) / '(1,)type'.\n",
      "  _np_quint8 = np.dtype([(\"quint8\", np.uint8, 1)])\n",
      "/Users/bluegrey/py3env/lib/python3.6/site-packages/tensorflow/python/framework/dtypes.py:460: FutureWarning: Passing (type, 1) or '1type' as a synonym of type is deprecated; in a future version of numpy, it will be understood as (type, (1,)) / '(1,)type'.\n",
      "  _np_qint16 = np.dtype([(\"qint16\", np.int16, 1)])\n",
      "/Users/bluegrey/py3env/lib/python3.6/site-packages/tensorflow/python/framework/dtypes.py:461: FutureWarning: Passing (type, 1) or '1type' as a synonym of type is deprecated; in a future version of numpy, it will be understood as (type, (1,)) / '(1,)type'.\n",
      "  _np_quint16 = np.dtype([(\"quint16\", np.uint16, 1)])\n",
      "/Users/bluegrey/py3env/lib/python3.6/site-packages/tensorflow/python/framework/dtypes.py:462: FutureWarning: Passing (type, 1) or '1type' as a synonym of type is deprecated; in a future version of numpy, it will be understood as (type, (1,)) / '(1,)type'.\n",
      "  _np_qint32 = np.dtype([(\"qint32\", np.int32, 1)])\n",
      "/Users/bluegrey/py3env/lib/python3.6/site-packages/tensorflow/python/framework/dtypes.py:465: FutureWarning: Passing (type, 1) or '1type' as a synonym of type is deprecated; in a future version of numpy, it will be understood as (type, (1,)) / '(1,)type'.\n",
      "  np_resource = np.dtype([(\"resource\", np.ubyte, 1)])\n"
     ]
    },
    {
     "name": "stdout",
     "output_type": "stream",
     "text": [
      "hdf5 is not supported on this machine (please install/reinstall h5py for optimal experience)\n",
      "\n",
      "#1,set data,init, zDat/cn/\n",
      "zDat/cn/\n"
     ]
    }
   ],
   "source": [
    "# -*- coding: utf-8 -*-\n",
    "'''\n",
    "TopQuant-简称TQ极宽智能量化回溯分析系统，培训课件-配套教学python课件程序\n",
    "\n",
    "Top极宽量化(原zw量化)，Python量化第一品牌 \n",
    "by Top极宽·量化开源团队 2017.10.1 首发\n",
    "\n",
    "网站： www.TopQuant.vip      www.ziwang.com\n",
    "QQ群: Top极宽量化1群，124134140\n",
    "      Top极宽量化2群，650924099\n",
    "      Top极宽量化3群，450853713\n",
    "  \n",
    "'''\n",
    "\n",
    "import os\n",
    "import numpy as np\n",
    "import pandas as pd\n",
    "import tushare as ts\n",
    "\n",
    "#  TopQuant\n",
    "import zsys \n",
    "import zpd_talib as zta\n",
    "import ztools as zt\n",
    "import ztools_tq as ztq\n",
    "import ztools_data as zdat\n",
    "\n",
    "\n",
    "#----------\n",
    "\n",
    "#1 set data,init\n",
    "inxLst=['000001','000002']\n",
    "codLst=['600000','600016','600028','600029','600030','600036','600048','600050','600100','600104','600111','600340']\n",
    "rs0=zsys.rdatCN0  #'/zDat/cn/'\n",
    "print('\\n#1,set data,init,',rs0)\n",
    "\n",
    "print(rs0)\n",
    "rs0='zDat/cn/'"
   ]
  },
  {
   "cell_type": "code",
   "execution_count": 2,
   "metadata": {},
   "outputs": [
    {
     "name": "stdout",
     "output_type": "stream",
     "text": [
      "tq_init name...\n",
      "zDat/inx/\n",
      "xstk_name.csv\n",
      "zDat/inx/xstk_name.csv\n",
      "tq_init pools...\n",
      "\n",
      "clst: ['600000', '600016', '600028', '600029', '600030', '600036', '600048', '600050', '600100', '600104', '600111', '600340']\n",
      "1 / 12 zDat/cn/day/600000.csv\n",
      "2 / 12 zDat/cn/day/600016.csv\n",
      "3 / 12 zDat/cn/day/600028.csv\n",
      "4 / 12 zDat/cn/day/600029.csv\n",
      "5 / 12 zDat/cn/day/600030.csv\n",
      "6 / 12 zDat/cn/day/600036.csv\n",
      "7 / 12 zDat/cn/day/600048.csv\n",
      "8 / 12 zDat/cn/day/600050.csv\n",
      "9 / 12 zDat/cn/day/600100.csv\n",
      "10 / 12 zDat/cn/day/600104.csv\n",
      "11 / 12 zDat/cn/day/600111.csv\n",
      "12 / 12 zDat/cn/day/600340.csv\n",
      "\n",
      "clst: ['000001', '000002']\n",
      "1 / 2 zDat/cn/xday/000001.csv\n",
      "2 / 2 zDat/cn/xday/000002.csv\n",
      "tq_init work data...\n",
      "\n",
      "#2,qt.prVars(qx)\n"
     ]
    },
    {
     "ename": "AttributeError",
     "evalue": "module 'ztools_tq' has no attribute 'tq_prVars'",
     "output_type": "error",
     "traceback": [
      "\u001b[0;31m---------------------------------------------------------------------\u001b[0m",
      "\u001b[0;31mAttributeError\u001b[0m                      Traceback (most recent call last)",
      "\u001b[0;32m<ipython-input-2-c9dd5a698567>\u001b[0m in \u001b[0;36m<module>\u001b[0;34m\u001b[0m\n\u001b[1;32m      5\u001b[0m \u001b[0;31m#2\u001b[0m\u001b[0;34m\u001b[0m\u001b[0;34m\u001b[0m\u001b[0m\n\u001b[1;32m      6\u001b[0m \u001b[0mprint\u001b[0m\u001b[0;34m(\u001b[0m\u001b[0;34m'\\n#2,qt.prVars(qx)'\u001b[0m\u001b[0;34m)\u001b[0m\u001b[0;34m\u001b[0m\u001b[0m\n\u001b[0;32m----> 7\u001b[0;31m \u001b[0mztq\u001b[0m\u001b[0;34m.\u001b[0m\u001b[0mtq_prVars\u001b[0m\u001b[0;34m(\u001b[0m\u001b[0mqx\u001b[0m\u001b[0;34m)\u001b[0m\u001b[0;34m\u001b[0m\u001b[0m\n\u001b[0m\u001b[1;32m      8\u001b[0m \u001b[0;34m\u001b[0m\u001b[0m\n",
      "\u001b[0;31mAttributeError\u001b[0m: module 'ztools_tq' has no attribute 'tq_prVars'"
     ]
    }
   ],
   "source": [
    "# 返回一个设置好的qx全局变量   参数： 数据目录  股票池代码列表  指数池代码列表\n",
    "qx=ztq.tq_init(rs0,codLst,inxLst)\n",
    "\n",
    "\n",
    "#2\n",
    "print('\\n#2,qt.prVars(qx)')\n",
    "ztq.tq_prVar(qx)\n",
    "\n"
   ]
  },
  {
   "cell_type": "code",
   "execution_count": null,
   "metadata": {},
   "outputs": [],
   "source": [
    "pd.read_csv('zDat/inx/xstk_name.csv',dtype={'code':str},encoding='GBK')"
   ]
  },
  {
   "cell_type": "code",
   "execution_count": null,
   "metadata": {},
   "outputs": [],
   "source": [
    "import zsys\n",
    "\n",
    "fstk,finx=zsys.rdatInx+zsys.f_stkNamTbl,zsys.rdatInx+zsys.f_inxNamTbl"
   ]
  },
  {
   "cell_type": "code",
   "execution_count": null,
   "metadata": {},
   "outputs": [],
   "source": [
    "print(fstk)\n",
    "print(finx)\n"
   ]
  },
  {
   "cell_type": "code",
   "execution_count": null,
   "metadata": {},
   "outputs": [],
   "source": [
    "print(zsys.rdatInx)"
   ]
  },
  {
   "cell_type": "code",
   "execution_count": null,
   "metadata": {},
   "outputs": [],
   "source": []
  },
  {
   "cell_type": "code",
   "execution_count": null,
   "metadata": {},
   "outputs": [],
   "source": []
  }
 ],
 "metadata": {
  "kernelspec": {
   "display_name": "Python 3",
   "language": "python",
   "name": "python3"
  },
  "language_info": {
   "codemirror_mode": {
    "name": "ipython",
    "version": 3
   },
   "file_extension": ".py",
   "mimetype": "text/x-python",
   "name": "python",
   "nbconvert_exporter": "python",
   "pygments_lexer": "ipython3",
   "version": "3.6.4"
  }
 },
 "nbformat": 4,
 "nbformat_minor": 4
}
