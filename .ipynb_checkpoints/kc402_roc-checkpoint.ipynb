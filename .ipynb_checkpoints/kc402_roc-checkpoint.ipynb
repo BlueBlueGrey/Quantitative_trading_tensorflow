{
 "cells": [
  {
   "cell_type": "code",
   "execution_count": 8,
   "metadata": {},
   "outputs": [
    {
     "name": "stdout",
     "output_type": "stream",
     "text": [
      "\n",
      "#1 fss, data/600663.csv\n",
      "             open   high    low  close   volume\n",
      "date                                           \n",
      "2017-09-04  24.26  24.40  24.20  24.27  25418.0\n",
      "2017-09-05  24.20  24.28  23.91  24.00  35635.0\n",
      "2017-09-06  23.88  24.00  23.64  23.71  38661.0\n",
      "2017-09-07  23.70  24.02  23.70  23.84  24343.0\n",
      "2017-09-08  23.72  24.00  23.68  23.76  23190.0\n"
     ]
    }
   ],
   "source": [
    "# -*- coding: utf-8 -*-\n",
    "'''\n",
    "TopQuant-简称TQ极宽智能量化回溯分析系统，培训课件-配套教学python课件程序\n",
    "\n",
    "Top极宽量化(原zw量化)，Python量化第一品牌 \n",
    "by Top极宽·量化开源团队 2017.10.1 首发\n",
    "\n",
    "网站： www.TopQuant.vip      www.ziwang.com\n",
    "QQ群: Top极宽量化1群，124134140\n",
    "      Top极宽量化2群，650924099\n",
    "      Top极宽量化3群，450853713\n",
    "  \n",
    "'''\n",
    "\n",
    "import os,ffn\n",
    "import numpy as np\n",
    "import pandas as pd\n",
    "import tushare as ts\n",
    "import plotly as py\n",
    "import plotly.figure_factory  as pyff\n",
    "\n",
    "#  TopQuant\n",
    "import zsys \n",
    "import zpd_talib as zta\n",
    "import ztools as zt\n",
    "import ztools_tq as ztq\n",
    "import ztools_draw as zdr\n",
    "import ztools_data as zdat\n",
    "\n",
    "\n",
    "#----------\n",
    "\n",
    "#1\n",
    "fss='data/600663.csv'\n",
    "print('\\n#1 fss,',fss)\n",
    "df=pd.read_csv(fss,index_col=0)\n",
    "df=df.sort_index(ascending=True);\n",
    "print(df.tail())\n",
    "\n",
    "\n",
    "\n"
   ]
  },
  {
   "cell_type": "code",
   "execution_count": 9,
   "metadata": {},
   "outputs": [
    {
     "name": "stdout",
     "output_type": "stream",
     "text": [
      "\n",
      "#2 vlst, [1, 2, 3, 4, 5, 6, 7, 8, 9]\n",
      "             open   high    low  close    volume     roc_2     roc_3     roc_5  roc_10  roc_15  roc_20  roc_25  roc_30  roc_50  roc_100\n",
      "date                                                                                                                                   \n",
      "1994-01-03  3.913  4.022  3.867  3.986  43822.57       NaN       NaN       NaN     NaN     NaN     NaN     NaN     NaN     NaN      NaN\n",
      "1994-01-04  4.026  4.211  3.998  4.204  54842.36  0.054691       NaN       NaN     NaN     NaN     NaN     NaN     NaN     NaN      NaN\n",
      "1994-01-05  4.200  4.378  4.104  4.352  69982.39  0.035205  0.091821       NaN     NaN     NaN     NaN     NaN     NaN     NaN      NaN\n",
      "1994-01-06  4.344  4.529  4.316  4.400  98823.97  0.011029  0.046622       NaN     NaN     NaN     NaN     NaN     NaN     NaN      NaN\n",
      "1994-01-07  4.400  4.455  4.327  4.391  53383.72 -0.002045  0.008961  0.101606     NaN     NaN     NaN     NaN     NaN     NaN      NaN\n"
     ]
    }
   ],
   "source": [
    "\n",
    "#2 计算衍生参数\n",
    "# vlst=list(range(1,10))\n",
    "print('\\n#2 vlst,',vlst)\n",
    "df=zta.mul_talib(zta.ROC,df, ksgn='close',vlst=zsys.ma100Lst_var)\n",
    "print(df.head())\n"
   ]
  },
  {
   "cell_type": "code",
   "execution_count": 4,
   "metadata": {},
   "outputs": [
    {
     "name": "stdout",
     "output_type": "stream",
     "text": [
      "\n",
      "#3 roc01\n",
      "close_d0,d1: 3.986 4.204\n",
      "roc1: 0.05469141996989451\n"
     ]
    }
   ],
   "source": [
    "#\n",
    "print('\\n#3 roc01')\n",
    "close_d0=df['close'][0]\n",
    "close_d1=df['close'][1]\n",
    "roc1=(close_d1 - close_d0)/close_d0\n",
    "print('close_d0,d1:',close_d0,close_d1)\n",
    "print('roc1:',roc1)"
   ]
  },
  {
   "cell_type": "code",
   "execution_count": null,
   "metadata": {},
   "outputs": [],
   "source": []
  }
 ],
 "metadata": {
  "kernelspec": {
   "display_name": "py3env",
   "language": "python",
   "name": "py3env"
  },
  "language_info": {
   "codemirror_mode": {
    "name": "ipython",
    "version": 3
   },
   "file_extension": ".py",
   "mimetype": "text/x-python",
   "name": "python",
   "nbconvert_exporter": "python",
   "pygments_lexer": "ipython3",
   "version": "3.6.4"
  }
 },
 "nbformat": 4,
 "nbformat_minor": 4
}
