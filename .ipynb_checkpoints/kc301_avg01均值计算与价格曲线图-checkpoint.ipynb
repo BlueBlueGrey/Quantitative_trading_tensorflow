{
 "cells": [
  {
   "cell_type": "code",
   "execution_count": 2,
   "metadata": {},
   "outputs": [
    {
     "name": "stdout",
     "output_type": "stream",
     "text": [
      "\n",
      "fss data/600663.csv\n",
      "             open   high    low  close   volume\n",
      "date                                           \n",
      "2017-09-04  24.26  24.40  24.20  24.27  25418.0\n",
      "2017-09-05  24.20  24.28  23.91  24.00  35635.0\n",
      "2017-09-06  23.88  24.00  23.64  23.71  38661.0\n",
      "2017-09-07  23.70  24.02  23.70  23.84  24343.0\n",
      "2017-09-08  23.72  24.00  23.68  23.76  23190.0\n",
      "['open', 'high', 'low', 'close']\n"
     ]
    }
   ],
   "source": [
    "# -*- coding: utf-8 -*-\n",
    "'''\n",
    "TopQuant-简称TQ极宽智能量化回溯分析系统，培训课件-配套教学python课件程序\n",
    "\n",
    "Top极宽量化(原zw量化)，Python量化第一品牌 \n",
    "by Top极宽·量化开源团队 2017.10.1 首发\n",
    "\n",
    "网站： www.TopQuant.vip      www.ziwang.com\n",
    "QQ群: Top极宽量化1群，124134140\n",
    "      Top极宽量化2群，650924099\n",
    "      Top极宽量化3群，450853713\n",
    "  \n",
    "'''\n",
    "\n",
    "import os\n",
    "import numpy as np\n",
    "import pandas as pd\n",
    "import tushare as ts\n",
    "\n",
    "#  TopQuant\n",
    "import zsys \n",
    "import ztools_datadown as zddown\n",
    "import ztools_draw as zdr\n",
    "\n",
    "#----------\n",
    "\n",
    "#1 读取数据\n",
    "fss='data/600663.csv'\n",
    "print('\\nfss',fss)\n",
    "df=pd.read_csv(fss,index_col=0)\n",
    "df=df.sort_index(ascending=True);\n",
    "print(df.tail())\n",
    "\n",
    "#2 计算avg均值数据\n",
    "# 每一行均值\n",
    "df['avg']=df[zsys.ohlcLst].mean(axis=1).round(2)\n",
    "\n",
    "print(zsys.ohlcLst)"
   ]
  },
  {
   "cell_type": "code",
   "execution_count": 3,
   "metadata": {},
   "outputs": [
    {
     "name": "stdout",
     "output_type": "stream",
     "text": [
      "\n",
      "df2\n",
      "             open   high    low  close   volume    avg\n",
      "date                                                  \n",
      "2017-09-04  24.26  24.40  24.20  24.27  25418.0  24.28\n",
      "2017-09-05  24.20  24.28  23.91  24.00  35635.0  24.10\n",
      "2017-09-06  23.88  24.00  23.64  23.71  38661.0  23.81\n",
      "2017-09-07  23.70  24.02  23.70  23.84  24343.0  23.82\n",
      "2017-09-08  23.72  24.00  23.68  23.76  23190.0  23.79\n",
      "\n",
      "fss, tmp/tmp_.html\n",
      "xlst, ['high', 'low', 'avg']\n"
     ]
    }
   ],
   "source": [
    "df2=df.tail(60)\n",
    "print('\\ndf2')\n",
    "print(df2.tail())\n",
    "\n",
    "#3 绘制价格曲线图\n",
    "hdr,fss='价格曲线图','tmp/tmp_.html'\n",
    "\n",
    "# 选择三组数据来画图\n",
    "xlst=['high','low','avg']\n",
    "zdr.drDF_mul_xline(df2,fss,m_title=hdr,xlst=xlst)\n",
    "print('\\nfss,',fss)\n",
    "print('xlst,',xlst)"
   ]
  },
  {
   "cell_type": "code",
   "execution_count": null,
   "metadata": {},
   "outputs": [],
   "source": []
  }
 ],
 "metadata": {
  "kernelspec": {
   "display_name": "py3env",
   "language": "python",
   "name": "py3env"
  },
  "language_info": {
   "codemirror_mode": {
    "name": "ipython",
    "version": 3
   },
   "file_extension": ".py",
   "mimetype": "text/x-python",
   "name": "python",
   "nbconvert_exporter": "python",
   "pygments_lexer": "ipython3",
   "version": "3.6.4"
  }
 },
 "nbformat": 4,
 "nbformat_minor": 4
}
