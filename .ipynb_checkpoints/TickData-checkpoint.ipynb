{
 "cells": [
  {
   "cell_type": "code",
   "execution_count": 2,
   "metadata": {},
   "outputs": [
    {
     "name": "stdout",
     "output_type": "stream",
     "text": [
      "\n",
      "#2,df.tail()\n",
      "       time  price change  volume  amount  type\n",
      "4  14:56:48  24.12     --      13   31356   buy\n",
      "3  14:56:51  24.13   0.01       7   16891  sell\n",
      "2  14:56:54  24.11  -0.02      30   72330  sell\n",
      "1  14:57:00  24.11     --       0       0  sell\n",
      "0  15:00:03  24.11     --     241  581436  sell\n",
      "\n",
      "#3,plot-->tmp/tmp_.html\n",
      "\n",
      "#4,ok\n"
     ]
    }
   ],
   "source": [
    "# -*- coding: utf-8 -*-\n",
    "'''\n",
    "TopQuant-简称TQ极宽智能量化回溯分析系统，培训课件-配套教学python课件程序\n",
    "\n",
    "Top极宽量化(原zw量化)，Python量化第一品牌 \n",
    "by Top极宽·量化开源团队 2017.10.1 首发\n",
    "\n",
    "网站： www.TopQuant.vip      www.ziwang.com\n",
    "QQ群: Top极宽量化1群，124134140\n",
    "      Top极宽量化2群，650924099\n",
    "      Top极宽量化3群，450853713\n",
    "  \n",
    "'''\n",
    "\n",
    "import pandas as pd\n",
    "import plotly as py\n",
    "import plotly.figure_factory  as pyff\n",
    "#from plotly.tools import FigureFactory as pyff\n",
    "\n",
    "\n",
    "#\n",
    "import zsys\n",
    "import ztools as zt\n",
    "import ztools_str as zstr\n",
    "import ztools_draw as zdr\n",
    "import zpd_talib as zta\n",
    "#\n",
    "#================================\n",
    "#1 预处理\n",
    "pd.set_option('display.width', 450)    \n",
    "pyplt=py.offline.plot    \n",
    "#---------------\n",
    "\n",
    "#2\n",
    "fss='data/002645_2016-09-01.csv'\n",
    "df=pd.read_csv(fss,index_col=False)\n",
    "# 没有列索引  不使用sort() 使用sort_values\n",
    "df=df.sort_values('time')\n",
    "print('\\n#2,df.tail()')\n",
    "print(df.tail())\n",
    "\n",
    "\n",
    "#3\n",
    "print('\\n#3,plot-->tmp/tmp_.html')\n",
    "hdr,fss='Tick数据价格曲线图','tmp/tmp_.html'\n",
    "df2=df.tail(200)\n",
    "zdr.drDF_tickX(df2,ftg=fss,m_title=hdr,sgnTim='time',sgnPrice='price')\n",
    "\n",
    "#4\n",
    "print('\\n#4,ok')\n"
   ]
  },
  {
   "cell_type": "code",
   "execution_count": null,
   "metadata": {},
   "outputs": [],
   "source": []
  }
 ],
 "metadata": {
  "kernelspec": {
   "display_name": "py3env",
   "language": "python",
   "name": "py3env"
  },
  "language_info": {
   "codemirror_mode": {
    "name": "ipython",
    "version": 3
   },
   "file_extension": ".py",
   "mimetype": "text/x-python",
   "name": "python",
   "nbconvert_exporter": "python",
   "pygments_lexer": "ipython3",
   "version": "3.6.4"
  }
 },
 "nbformat": 4,
 "nbformat_minor": 4
}
