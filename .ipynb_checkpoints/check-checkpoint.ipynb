{
 "cells": [
  {
   "cell_type": "code",
   "execution_count": 1,
   "metadata": {},
   "outputs": [],
   "source": [
    "import csv\n",
    "import os\n",
    "import pandas as pd\n",
    "stu_list=[201611030511,\n",
    "201711200147,\n",
    "201711130109,\n",
    "201711130113,\n",
    "201711130136,\n",
    "201711130157,\n",
    "201711130219,\n",
    "201711210134,\n",
    "201711130918,\n",
    "201511210103,\n",
    "201611100182,\n",
    "201611130126,\n",
    "201611150104,\n",
    "201611200137,\n",
    "201611210114,\n",
    "201711140124,\n",
    "201711150180,\n",
    "201711210102,\n",
    "201711210103,\n",
    "201711210104,\n",
    "201711210106,\n",
    "201711210107,\n",
    "201711210108,\n",
    "201711210109,\n",
    "201711210110,\n",
    "201711210111,\n",
    "201711210112,\n",
    "201711210113,\n",
    "201711210116,\n",
    "201711210117,\n",
    "201711210119,\n",
    "201711210120,\n",
    "201711210121,\n",
    "201711210124,\n",
    "201711210125,\n",
    "201711210127,\n",
    "201711210128,\n",
    "201711210129,\n",
    "201711210130,\n",
    "201711210131,\n",
    "201711210132,\n",
    "201711210133,\n",
    "201711210136,\n",
    "201711210137,\n",
    "201711210138,\n",
    "201711210139,\n",
    "201711210140,\n",
    "201711210141,\n",
    "201711210142,\n",
    "201711210144,\n",
    "201711210201,\n",
    "201711210203,\n",
    "201711210220,\n",
    "201711210145,\n",
    "201711210146,\n",
    "201711210147,\n",
    "201711210149,\n",
    "201711210150,\n",
    "201711210151,\n",
    "201711210152,\n",
    "201711210153,\n",
    "201711210154,\n",
    "201711210155,\n",
    "201711210156,\n",
    "201711210157,\n",
    "201711210158,\n",
    "201711210159,\n",
    "201711210160,\n",
    "201511210902,\n",
    "201611120904,\n",
    "201611140919,\n",
    "201611150931,\n",
    "201711210901,\n",
    "201711210902,\n",
    "201711210903,\n",
    "201711210904,\n",
    "201711210905,\n",
    "201711210906,\n",
    "201711210907,\n",
    "201711210908,\n",
    "201711210909,\n",
    "201711210911,\n",
    "201711210912,\n",
    "201711210913,\n",
    "201711210914,\n",
    "201711210915,\n",
    "201711210916,\n",
    "201711210917,\n",
    "201711210918,\n",
    "201711210919,\n",
    "201711210920,\n",
    "201711210921,\n",
    "201711210923,\n",
    "201711210925,\n",
    "201711210926,\n",
    "201711210927,\n",
    "201711210928,\n",
    "201711210929,\n",
    "201711210930,\n",
    "201711210931,\n",
    "201711210932,\n",
    "201811010122,\n",
    "201811010127,\n",
    "201811010198,\n",
    "201811010200,\n",
    "201711200143]\n"
   ]
  },
  {
   "cell_type": "code",
   "execution_count": 2,
   "metadata": {},
   "outputs": [
    {
     "name": "stdout",
     "output_type": "stream",
     "text": [
      "['201611030511', '201711200147', '201711130109', '201711130113', '201711130136', '201711130157', '201711130219', '201711210134', '201711130918', '201511210103', '201611100182', '201611130126', '201611150104', '201611200137', '201611210114', '201711140124', '201711150180', '201711210102', '201711210103', '201711210104', '201711210106', '201711210107', '201711210108', '201711210109', '201711210110', '201711210111', '201711210112', '201711210113', '201711210116', '201711210117', '201711210119', '201711210120', '201711210121', '201711210124', '201711210125', '201711210127', '201711210128', '201711210129', '201711210130', '201711210131', '201711210132', '201711210133', '201711210136', '201711210137', '201711210138', '201711210139', '201711210140', '201711210141', '201711210142', '201711210144', '201711210201', '201711210203', '201711210220', '201711210145', '201711210146', '201711210147', '201711210149', '201711210150', '201711210151', '201711210152', '201711210153', '201711210154', '201711210155', '201711210156', '201711210157', '201711210158', '201711210159', '201711210160', '201511210902', '201611120904', '201611140919', '201611150931', '201711210901', '201711210902', '201711210903', '201711210904', '201711210905', '201711210906', '201711210907', '201711210908', '201711210909', '201711210911', '201711210912', '201711210913', '201711210914', '201711210915', '201711210916', '201711210917', '201711210918', '201711210919', '201711210920', '201711210921', '201711210923', '201711210925', '201711210926', '201711210927', '201711210928', '201711210929', '201711210930', '201711210931', '201711210932', '201811010122', '201811010127', '201811010198', '201811010200', '201711200143']\n"
     ]
    }
   ],
   "source": [
    "stu_list= [str(x) for x in stu_list]\n",
    "print(stu_list)\n"
   ]
  },
  {
   "cell_type": "code",
   "execution_count": 17,
   "metadata": {},
   "outputs": [
    {
     "name": "stdout",
     "output_type": "stream",
     "text": [
      "习题-物理层没交作业学号：\n",
      "201711210132\n",
      "201511210902\n",
      "201611140919\n"
     ]
    }
   ],
   "source": [
    "rootdir = './习题/习题-物理层'\n",
    "print(\"习题-物理层没交作业学号：\")\n",
    "list = os.listdir(rootdir) #列出文件夹下所有的目录与文件\n",
    "for i in range(0,len(stu_list)):\n",
    "    stu_num=stu_list[i]\n",
    "    flag = False\n",
    "    for j in range(0,len(list)):\n",
    "        path = os.path.join(rootdir,list[j])\n",
    "#         print(path)\n",
    "        if (stu_num in list[j]):\n",
    "            flag= True\n",
    "        \n",
    "    if flag == False :\n",
    "        print(stu_num)"
   ]
  },
  {
   "cell_type": "code",
   "execution_count": 18,
   "metadata": {},
   "outputs": [
    {
     "name": "stdout",
     "output_type": "stream",
     "text": [
      "习题一没交作业学号：\n",
      "201511210902\n"
     ]
    }
   ],
   "source": [
    "rootdir = './习题/习题-一'\n",
    "print(\"习题一没交作业学号：\")\n",
    "list = os.listdir(rootdir) #列出文件夹下所有的目录与文件\n",
    "for i in range(0,len(stu_list)):\n",
    "    stu_num=stu_list[i]\n",
    "    flag = False\n",
    "    for j in range(0,len(list)):\n",
    "        path = os.path.join(rootdir,list[j])\n",
    "        if (stu_num in list[j]):\n",
    "            flag= True\n",
    "        \n",
    "    if flag == False :\n",
    "        print(stu_num)"
   ]
  },
  {
   "cell_type": "code",
   "execution_count": 6,
   "metadata": {},
   "outputs": [
    {
     "name": "stdout",
     "output_type": "stream",
     "text": [
      "习题-应用层没交作业学号：\n",
      "201711210158\n",
      "201511210902\n",
      "201611140919\n"
     ]
    }
   ],
   "source": [
    "rootdir = './习题/习题-应用层'\n",
    "print(\"习题-应用层没交作业学号：\")\n",
    "list = os.listdir(rootdir) #列出文件夹下所有的目录与文件\n",
    "for i in range(0,len(stu_list)):\n",
    "    stu_num=stu_list[i]\n",
    "    flag = False\n",
    "    for j in range(0,len(list)):\n",
    "        path = os.path.join(rootdir,list[j])\n",
    "#         print(list[j])\n",
    "        if (list[j].find(stu_num)!=-1):\n",
    "            flag= True\n",
    "        \n",
    "    if flag == False :\n",
    "        print(stu_num)"
   ]
  },
  {
   "cell_type": "code",
   "execution_count": 28,
   "metadata": {},
   "outputs": [
    {
     "name": "stdout",
     "output_type": "stream",
     "text": [
      "习题-传输层没交作业学号：\n",
      "201711210158\n",
      "201511210902\n",
      "201611140919\n"
     ]
    }
   ],
   "source": [
    "rootdir = './习题/习题-传输层'\n",
    "print(\"习题-传输层没交作业学号：\")\n",
    "list = os.listdir(rootdir) #列出文件夹下所有的目录与文件\n",
    "for i in range(0,len(stu_list)):\n",
    "    stu_num=stu_list[i]\n",
    "    flag = False\n",
    "    for j in range(0,len(list)):\n",
    "        path = os.path.join(rootdir,list[j])\n",
    "        if (stu_num in list[j]):\n",
    "            flag= True\n",
    "        \n",
    "    if flag == False :\n",
    "        print(stu_num)"
   ]
  },
  {
   "cell_type": "code",
   "execution_count": 22,
   "metadata": {},
   "outputs": [
    {
     "name": "stdout",
     "output_type": "stream",
     "text": [
      "习题-数据链路层没交作业学号：\n",
      "201711210158\n",
      "201511210902\n",
      "201611140919\n"
     ]
    }
   ],
   "source": [
    "rootdir = './习题/习题-数据链路层'\n",
    "print(\"习题-数据链路层没交作业学号：\")\n",
    "list = os.listdir(rootdir) #列出文件夹下所有的目录与文件\n",
    "for i in range(0,len(stu_list)):\n",
    "    stu_num=stu_list[i]\n",
    "    flag = False\n",
    "    for j in range(0,len(list)):\n",
    "        path = os.path.join(rootdir,list[j])\n",
    "        if (stu_num in list[j]):\n",
    "            flag= True\n",
    "        \n",
    "    if flag == False :\n",
    "        print(stu_num)"
   ]
  },
  {
   "cell_type": "code",
   "execution_count": 23,
   "metadata": {},
   "outputs": [
    {
     "name": "stdout",
     "output_type": "stream",
     "text": [
      "习题-网络层没交作业学号：\n",
      "201711210158\n",
      "201511210902\n",
      "201611120904\n",
      "201611140919\n"
     ]
    }
   ],
   "source": [
    "rootdir = './习题/习题-网络层'\n",
    "print(\"习题-网络层没交作业学号：\")\n",
    "list = os.listdir(rootdir) #列出文件夹下所有的目录与文件\n",
    "for i in range(0,len(stu_list)):\n",
    "    stu_num=stu_list[i]\n",
    "    flag = False\n",
    "    for j in range(0,len(list)):\n",
    "        path = os.path.join(rootdir,list[j])\n",
    "        if (stu_num in list[j]):\n",
    "            flag= True\n",
    "        \n",
    "    if flag == False :\n",
    "        print(stu_num)"
   ]
  },
  {
   "cell_type": "code",
   "execution_count": 24,
   "metadata": {},
   "outputs": [
    {
     "name": "stdout",
     "output_type": "stream",
     "text": [
      "习题-介质访问控制子层没交作业学号：\n",
      "201711210158\n",
      "201511210902\n",
      "201611140919\n"
     ]
    }
   ],
   "source": [
    "\n",
    "rootdir = './习题/习题-介质访问控制子层'\n",
    "print(\"习题-介质访问控制子层没交作业学号：\")\n",
    "list = os.listdir(rootdir) #列出文件夹下所有的目录与文件\n",
    "for i in range(0,len(stu_list)):\n",
    "    stu_num=stu_list[i]\n",
    "    flag = False\n",
    "    for j in range(0,len(list)):\n",
    "        path = os.path.join(rootdir,list[j])\n",
    "        if (stu_num in list[j]):\n",
    "            flag= True\n",
    "        \n",
    "    if flag == False :\n",
    "        print(stu_num)"
   ]
  },
  {
   "cell_type": "code",
   "execution_count": 13,
   "metadata": {},
   "outputs": [],
   "source": [
    "co=[0]*106\n",
    "\n",
    "# 杜沁 201711210127\n",
    "# 201711210155"
   ]
  },
  {
   "cell_type": "code",
   "execution_count": null,
   "metadata": {},
   "outputs": [],
   "source": []
  },
  {
   "cell_type": "code",
   "execution_count": 25,
   "metadata": {},
   "outputs": [
    {
     "name": "stdout",
     "output_type": "stream",
     "text": [
      "201511210902 0\n",
      "201611140919 0\n"
     ]
    }
   ],
   "source": [
    "dic = dict(zip(stu_list,co))\n",
    "rootdir = './实验'\n",
    "list = os.listdir(rootdir) #列出文件夹下所有的目录与文件\n",
    "\n",
    "for j in range(0,len(list)):\n",
    "    path = os.path.join(rootdir,list[j])\n",
    "    try:\n",
    "        lab=os.listdir(path)\n",
    "        for stu in range(0,106):\n",
    "            flag=False\n",
    "            for i in range(0,len(lab)):\n",
    "                \n",
    "                if(stu_list[stu] in lab[i]):\n",
    "                    flag=True\n",
    "            if(flag):\n",
    "                dic[stu_list[stu]]+=1\n",
    "    except IOError:\n",
    "        pass\n",
    "dic['201711210127']=5\n",
    "dic['201711210203']=5\n",
    "dic['201611210114']=5\n",
    "dic['201711210152']=5\n",
    "dic['201611150931']=5\n",
    "dic['201711210147']=5\n",
    "for key in dic:\n",
    "    if(dic[key]<5):\n",
    "        print(str(key)+' '+str(dic[key]))\n",
    "\n"
   ]
  },
  {
   "cell_type": "code",
   "execution_count": 29,
   "metadata": {},
   "outputs": [
    {
     "name": "stdout",
     "output_type": "stream",
     "text": [
      "201711130113 7\n",
      "201711210134 6\n",
      "201511210103 7\n",
      "201711150180 8\n",
      "201711210104 6\n",
      "201711210107 6\n",
      "201711210140 6\n",
      "201711210145 6\n",
      "201711210911 6\n",
      "201711210913 6\n",
      "201711210917 7\n",
      "201711210930 6\n"
     ]
    }
   ],
   "source": [
    "for key in dic:\n",
    "    if dic[key]>5:\n",
    "        print(str(key)+' '+str(dic[key]))\n"
   ]
  },
  {
   "cell_type": "code",
   "execution_count": null,
   "metadata": {},
   "outputs": [],
   "source": []
  }
 ],
 "metadata": {
  "kernelspec": {
   "display_name": "Python 3",
   "language": "python",
   "name": "python3"
  },
  "language_info": {
   "codemirror_mode": {
    "name": "ipython",
    "version": 3
   },
   "file_extension": ".py",
   "mimetype": "text/x-python",
   "name": "python",
   "nbconvert_exporter": "python",
   "pygments_lexer": "ipython3",
   "version": "3.6.4"
  }
 },
 "nbformat": 4,
 "nbformat_minor": 4
}
