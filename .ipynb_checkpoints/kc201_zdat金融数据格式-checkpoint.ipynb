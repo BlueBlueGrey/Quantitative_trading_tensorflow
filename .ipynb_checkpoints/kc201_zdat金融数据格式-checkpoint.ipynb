{
 "cells": [
  {
   "cell_type": "code",
   "execution_count": 1,
   "metadata": {},
   "outputs": [
    {
     "name": "stdout",
     "output_type": "stream",
     "text": [
      "             open   high    low  close    volume\n",
      "date                                            \n",
      "1994-01-07  4.400  4.455  4.327  4.391  53383.72\n",
      "1994-01-06  4.344  4.529  4.316  4.400  98823.97\n",
      "1994-01-05  4.200  4.378  4.104  4.352  69982.39\n",
      "1994-01-04  4.026  4.211  3.998  4.204  54842.36\n",
      "1994-01-03  3.913  4.022  3.867  3.986  43822.57\n"
     ]
    }
   ],
   "source": [
    "# -*- coding: utf-8 -*-\n",
    "import pandas as pd\n",
    "# 设置输出宽度\n",
    "pd.set_option('display.width', 450)    \n",
    "#---------------\n",
    "\n",
    "fss='data/600663.csv'\n",
    "df=pd.read_csv(fss,index_col=0)\n",
    "print(df.tail())\n"
   ]
  },
  {
   "cell_type": "code",
   "execution_count": null,
   "metadata": {},
   "outputs": [
    {
     "name": "stdout",
     "output_type": "stream",
     "text": [
      "5\n",
      "5 3\n",
      "16 11 7 4 1\n",
      "Case #1: 12.3584\n"
     ]
    }
   ],
   "source": [
    "T=int(input())\n",
    "for tt in range(T):\n",
    "    N,K=[int(s) for s in input().split()]\n",
    "    v=[int(s) for s in input().split()]\n",
    "    if K==0:\n",
    "        ans=sum(v)/N\n",
    "    else:\n",
    "        v.sort(reverse=True)\n",
    "        \n",
    "        pre_sum=[v[0]]\n",
    "        for i in range(1,N):\n",
    "            pre_sum.append(pre_sum[-1]+v[i])\n",
    "        dp=[]\n",
    "        dp.append(pre_sum[-1]/N)\n",
    "        \n",
    "        for k in range(1,K+1):\n",
    "            i=0\n",
    "            while i<N and v[i]>=dp[-1]:\n",
    "                i=i+1\n",
    "            dp.append((dp[-1]*(N-i)+pre_sum[i-1])/N)\n",
    "        ans=dp[-1]\n",
    "    print(\"Case #{}: {}\".format(tt+1, ans))     \n"
   ]
  },
  {
   "cell_type": "code",
   "execution_count": null,
   "metadata": {},
   "outputs": [],
   "source": []
  }
 ],
 "metadata": {
  "kernelspec": {
   "display_name": "Python 3",
   "language": "python",
   "name": "python3"
  },
  "language_info": {
   "codemirror_mode": {
    "name": "ipython",
    "version": 3
   },
   "file_extension": ".py",
   "mimetype": "text/x-python",
   "name": "python",
   "nbconvert_exporter": "python",
   "pygments_lexer": "ipython3",
   "version": "3.6.4"
  }
 },
 "nbformat": 4,
 "nbformat_minor": 4
}
