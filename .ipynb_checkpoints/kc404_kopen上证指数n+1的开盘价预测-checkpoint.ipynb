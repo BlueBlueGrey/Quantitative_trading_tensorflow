{
 "cells": [
  {
   "cell_type": "code",
   "execution_count": 1,
   "metadata": {},
   "outputs": [
    {
     "name": "stdout",
     "output_type": "stream",
     "text": [
      "hdf5 is not supported on this machine (please install/reinstall h5py for optimal experience)\n"
     ]
    },
    {
     "name": "stderr",
     "output_type": "stream",
     "text": [
      "Using TensorFlow backend.\n"
     ]
    },
    {
     "name": "stdout",
     "output_type": "stream",
     "text": [
      "\n",
      "#1,set.sys\n",
      "\n",
      "#2,读取数据\n",
      "\n",
      "#3,整理数据\n",
      "\n",
      "cn9, 5672\n",
      "               open     high    close      low       volume        amount    xopen\n",
      "date                                                                              \n",
      "2017-04-26 3132.918 3152.953 3140.847 3131.418  16987810700  197112873017 3131.350\n",
      "2017-04-27 3131.350 3155.003 3152.187 3097.333  21179307300  235748319355 3144.022\n",
      "2017-04-28 3144.022 3154.727 3154.658 3136.578  16288989900  183195769806 3147.228\n",
      "2017-05-02 3147.228 3154.781 3143.712 3136.539  15422296200  176389916688 3138.307\n",
      "2017-05-03 3138.307 3148.286 3135.346 3123.751  16376392400  190236600690      nan\n",
      "\n",
      "#4,设置训练数据\n",
      "[ 833.9    832.69   846.98  ... 1620.976 1623.884 1665.357]\n",
      "[ 835.97   829.3    850.78  ... 1641.429 1624.319 1673.265]\n",
      "<class 'numpy.ndarray'>\n",
      "\n",
      "#5,构建线性回归神经网络模型\n"
     ]
    }
   ],
   "source": [
    "# -*- coding: utf-8 -*-\n",
    "'''\n",
    "TopQuant-简称TQ极宽智能量化回溯分析系统，培训课件-配套教学python课件程序\n",
    "\n",
    "Top极宽量化(原zw量化)，Python量化第一品牌 \n",
    "by Top极宽·量化开源团队 2017.10.1 首发\n",
    "\n",
    "网站： www.TopQuant.vip      www.ziwang.com\n",
    "QQ群: Top极宽量化1群，124134140\n",
    "      Top极宽量化2群，650924099\n",
    "      Top极宽量化3群，450853713\n",
    "  \n",
    "'''\n",
    "\n",
    "import os,ffn\n",
    "import numpy as np\n",
    "import pandas as pd\n",
    "import tushare as ts\n",
    "import plotly as py\n",
    "import plotly.figure_factory  as pyff\n",
    "\n",
    "import tflearn\n",
    "import tensorflow as tf\n",
    "\n",
    "#  TopQuant\n",
    "import zsys \n",
    "import zpd_talib as zta\n",
    "import ztools as zt\n",
    "import ztools_tq as ztq\n",
    "import ztools_draw as zdr\n",
    "import ztools_data as zdat\n",
    "\n",
    "\n",
    "#----------\n",
    "\n",
    "#1\n",
    "print('\\n#1,set.sys')\n",
    "pd.set_option('display.width', 450)    \n",
    "pd.set_option('display.float_format', zt.xfloat3)    \n",
    "rlog='ailib/log_tmp'\n",
    "if os.path.exists(rlog):tf.gfile.DeleteRecursively(rlog)\n",
    "\n",
    "\n",
    "#2\n",
    "print('\\n#2,读取数据')\n",
    "# 大盘指数日线图\n",
    "fss='zDat/cn/xday/000001.csv'\n",
    "# 上证指数\n",
    "fss='data/inx_000001.csv'\n",
    "df=pd.read_csv(fss,index_col=0)\n",
    "df=df.sort_index()\n",
    "\n",
    "#3\n",
    "print('\\n#3,整理数据')\n",
    "cn9=df['close'].count()\n",
    "df['xopen']=df['open'].shift(-1)\n",
    "df1=df.head(2000)\n",
    "df2=df.tail(cn9-2000)\n",
    "print('\\ncn9,',cn9)\n",
    "print(df2.tail())\n",
    "#\n",
    "\n",
    "#4\n",
    "print('\\n#4,设置训练数据')\n",
    "X=df1['close'].values\n",
    "Y=df1['xopen'].values\n",
    "print(X)\n",
    "print(Y)\n",
    "print(type(X))\n",
    "\n",
    "\n",
    "#5\n",
    "print('\\n#5,构建线性回归神经网络模型')\n",
    "input_ = tflearn.input_data(shape=[None])\n",
    "linear = tflearn.single_unit(input_)\n",
    "regression = tflearn.regression(linear, optimizer='sgd', loss='mean_square',\n",
    "    metric='R2', learning_rate=0.01) \n",
    "m = tflearn.DNN(regression,tensorboard_dir=rlog)\n",
    "\n",
    "\n",
    "\n"
   ]
  },
  {
   "cell_type": "code",
   "execution_count": 2,
   "metadata": {},
   "outputs": [
    {
     "name": "stdout",
     "output_type": "stream",
     "text": [
      "Training Step: 3200  | total loss: \u001b[1m\u001b[32m1380.00879\u001b[0m\u001b[0m | time: 0.114s\n",
      "| SGD | epoch: 100 | loss: 1380.00879 - R2: 0.9845 -- iter: 2000/2000\n",
      "\n",
      "#7,根据模型，进行预测\n",
      "               open     high    close      low       volume        amount    xopen    open2\n",
      "date                                                                                       \n",
      "2017-04-26 3132.918 3152.953 3140.847 3131.418  16987810700  197112873017 3131.350 3203.100\n",
      "2017-04-27 3131.350 3155.003 3152.187 3097.333  21179307300  235748319355 3144.022 3214.668\n",
      "2017-04-28 3144.022 3154.727 3154.658 3136.578  16288989900  183195769806 3147.228 3217.189\n",
      "2017-05-02 3147.228 3154.781 3143.712 3136.539  15422296200  176389916688 3138.307 3206.023\n",
      "2017-05-03 3138.307 3148.286 3135.346 3123.751  16376392400  190236600690      nan 3197.488\n",
      "\n",
      "#9,ok\n"
     ]
    },
    {
     "name": "stderr",
     "output_type": "stream",
     "text": [
      "/Users/bluegrey/py3env/lib/python3.6/site-packages/ipykernel_launcher.py:12: SettingWithCopyWarning:\n",
      "\n",
      "\n",
      "A value is trying to be set on a copy of a slice from a DataFrame.\n",
      "Try using .loc[row_indexer,col_indexer] = value instead\n",
      "\n",
      "See the caveats in the documentation: http://pandas.pydata.org/pandas-docs/stable/indexing.html#indexing-view-versus-copy\n",
      "\n"
     ]
    }
   ],
   "source": [
    "#6\n",
    "print('\\n#6,开始训练模型')\n",
    "m.fit(X, Y, n_epoch=100, show_metric=True, snapshot_epoch=False)\n",
    "\n",
    "\n",
    "#7\n",
    "print('\\n#7,根据模型，进行预测')\n",
    "X2=df2['close'].values\n",
    "Y2=m.predict(X2)\n",
    "#\n",
    "ds2y=zdat.ds4x(Y2,df2.index)\n",
    "df2['open2']= ds2y\n",
    "#\n",
    "print(df2.tail())\n",
    "df2.to_csv('tmp/df2.csv')\n",
    "\n",
    "#9\n",
    "print('\\n#9,ok')\n",
    "\n",
    "\n"
   ]
  },
  {
   "cell_type": "code",
   "execution_count": 3,
   "metadata": {},
   "outputs": [
    {
     "name": "stdout",
     "output_type": "stream",
     "text": [
      "(2000,)\n",
      "<class 'numpy.ndarray'>\n"
     ]
    }
   ],
   "source": [
    "import random\n",
    "print(X.shape)\n",
    "print(type(Y))\n",
    "\n",
    "all_num = 2000\n",
    "num = 20\n",
    "X=random.sample(range(1,all_num),num)\n",
    "Y=random.sample(range(1,all_num),num)"
   ]
  },
  {
   "cell_type": "code",
   "execution_count": null,
   "metadata": {},
   "outputs": [],
   "source": []
  }
 ],
 "metadata": {
  "kernelspec": {
   "display_name": "py3env",
   "language": "python",
   "name": "py3env"
  },
  "language_info": {
   "codemirror_mode": {
    "name": "ipython",
    "version": 3
   },
   "file_extension": ".py",
   "mimetype": "text/x-python",
   "name": "python",
   "nbconvert_exporter": "python",
   "pygments_lexer": "ipython3",
   "version": "3.6.4"
  }
 },
 "nbformat": 4,
 "nbformat_minor": 4
}
