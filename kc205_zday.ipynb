{
 "cells": [
  {
   "cell_type": "code",
   "execution_count": 3,
   "metadata": {},
   "outputs": [
    {
     "name": "stdout",
     "output_type": "stream",
     "text": [
      "\n",
      "#2,df.tail()\n",
      "             open   high    low  close   volume\n",
      "date                                           \n",
      "2017-09-04  24.26  24.40  24.20  24.27  25418.0\n",
      "2017-09-05  24.20  24.28  23.91  24.00  35635.0\n",
      "2017-09-06  23.88  24.00  23.64  23.71  38661.0\n",
      "2017-09-07  23.70  24.02  23.70  23.84  24343.0\n",
      "2017-09-08  23.72  24.00  23.68  23.76  23190.0\n",
      "\n",
      "#3,plot-->tmp/tmp_.html\n",
      "\n",
      "#4,ok\n"
     ]
    }
   ],
   "source": [
    "# -*- coding: utf-8 -*-\n",
    "'''\n",
    "TopQuant-简称TQ极宽智能量化回溯分析系统，培训课件-配套教学python课件程序\n",
    "\n",
    "Top极宽量化(原zw量化)，Python量化第一品牌 \n",
    "by Top极宽·量化开源团队 2017.10.1 首发\n",
    "\n",
    "网站： www.TopQuant.vip      www.ziwang.com\n",
    "QQ群: Top极宽量化1群，124134140\n",
    "      Top极宽量化2群，650924099\n",
    "      Top极宽量化3群，450853713\n",
    "  \n",
    "'''\n",
    "\n",
    "\n",
    "import pandas as pd\n",
    "import plotly as py\n",
    "import plotly.figure_factory  as pyff\n",
    "#from plotly.tools import FigureFactory as pyff\n",
    "\n",
    "\n",
    "#\n",
    "import zsys\n",
    "import ztools as zt\n",
    "import ztools_str as zstr\n",
    "import ztools_draw as zdr\n",
    "import zpd_talib as zta\n",
    "#\n",
    "#================================\n",
    "#1 预处理\n",
    "pd.set_option('display.width', 450)    \n",
    "pyplt=py.offline.plot    \n",
    "#---------------\n",
    "\n",
    "#2\n",
    "xcod='600663'\n",
    "# rdat0='/zDat/'\n",
    "# rDay=rdat0+'cn/Day/'\n",
    "fss='data/'+xcod+'.csv'\n",
    "df=pd.read_csv(fss,index_col=0)\n",
    "df=df.sort_index()\n",
    "print('\\n#2,df.tail()')\n",
    "print(df.tail())\n",
    "\n",
    "#3\n",
    "print('\\n#3,plot-->tmp/tmp_.html')\n",
    "hdr,fss='k线图-'+xcod,'tmp/tmp_.html'\n",
    "df2=df.tail(100)\n",
    "zdr.drDF_cdl(df2,ftg=fss,m_title=hdr)\n",
    "\n",
    "#4\n",
    "print('\\n#4,ok')\n"
   ]
  },
  {
   "cell_type": "code",
   "execution_count": null,
   "metadata": {},
   "outputs": [],
   "source": []
  }
 ],
 "metadata": {
  "kernelspec": {
   "display_name": "py3env",
   "language": "python",
   "name": "py3env"
  },
  "language_info": {
   "codemirror_mode": {
    "name": "ipython",
    "version": 3
   },
   "file_extension": ".py",
   "mimetype": "text/x-python",
   "name": "python",
   "nbconvert_exporter": "python",
   "pygments_lexer": "ipython3",
   "version": "3.6.4"
  }
 },
 "nbformat": 4,
 "nbformat_minor": 4
}
