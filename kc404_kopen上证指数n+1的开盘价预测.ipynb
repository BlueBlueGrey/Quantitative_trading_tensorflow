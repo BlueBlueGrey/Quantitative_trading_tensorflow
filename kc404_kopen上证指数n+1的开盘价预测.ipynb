{
 "cells": [
  {
   "cell_type": "code",
   "execution_count": 7,
   "metadata": {},
   "outputs": [
    {
     "name": "stdout",
     "output_type": "stream",
     "text": [
      "\n",
      "#1,set.sys\n",
      "\n",
      "#2,读取数据\n",
      "\n",
      "#3,整理数据\n",
      "\n",
      "cn9, 5672\n",
      "               open     high    close      low       volume        amount    xopen\n",
      "date                                                                              \n",
      "2017-04-26 3132.918 3152.953 3140.847 3131.418  16987810700  197112873017 3131.350\n",
      "2017-04-27 3131.350 3155.003 3152.187 3097.333  21179307300  235748319355 3144.022\n",
      "2017-04-28 3144.022 3154.727 3154.658 3136.578  16288989900  183195769806 3147.228\n",
      "2017-05-02 3147.228 3154.781 3143.712 3136.539  15422296200  176389916688 3138.307\n",
      "2017-05-03 3138.307 3148.286 3135.346 3123.751  16376392400  190236600690      nan\n",
      "\n",
      "#4,设置训练数据\n",
      "[ 833.9    832.69   846.98  ... 1620.976 1623.884 1665.357]\n",
      "[ 835.97   829.3    850.78  ... 1641.429 1624.319 1673.265]\n",
      "<class 'numpy.ndarray'>\n",
      "\n",
      "#5,构建线性回归神经网络模型\n"
     ]
    }
   ],
   "source": [
    "# -*- coding: utf-8 -*-\n",
    "'''\n",
    "TopQuant-简称TQ极宽智能量化回溯分析系统，培训课件-配套教学python课件程序\n",
    "\n",
    "Top极宽量化(原zw量化)，Python量化第一品牌 \n",
    "by Top极宽·量化开源团队 2017.10.1 首发\n",
    "\n",
    "网站： www.TopQuant.vip      www.ziwang.com\n",
    "QQ群: Top极宽量化1群，124134140\n",
    "      Top极宽量化2群，650924099\n",
    "      Top极宽量化3群，450853713\n",
    "  \n",
    "'''\n",
    "\n",
    "import os,ffn\n",
    "import numpy as np\n",
    "import pandas as pd\n",
    "import tushare as ts\n",
    "import plotly as py\n",
    "import plotly.figure_factory  as pyff\n",
    "\n",
    "import tflearn\n",
    "import tensorflow as tf\n",
    "\n",
    "#  TopQuant\n",
    "import zsys \n",
    "import zpd_talib as zta\n",
    "import ztools as zt\n",
    "import ztools_tq as ztq\n",
    "import ztools_draw as zdr\n",
    "import ztools_data as zdat\n",
    "\n",
    "\n",
    "#----------\n",
    "\n",
    "#1\n",
    "print('\\n#1,set.sys')\n",
    "pd.set_option('display.width', 450)    \n",
    "pd.set_option('display.float_format', zt.xfloat3)    \n",
    "rlog='ailib/log_tmp'\n",
    "if os.path.exists(rlog):tf.gfile.DeleteRecursively(rlog)\n",
    "\n",
    "\n",
    "#2\n",
    "print('\\n#2,读取数据')\n",
    "# 大盘指数日线图\n",
    "fss='zDat/cn/xday/000001.csv'\n",
    "# 上证指数\n",
    "fss='data/inx_000001.csv'\n",
    "df=pd.read_csv(fss,index_col=0)\n",
    "df=df.sort_index()\n",
    "\n",
    "#3\n",
    "print('\\n#3,整理数据')\n",
    "cn9=df['close'].count()\n",
    "df['xopen']=df['open'].shift(-1)\n",
    "df1=df.head(2000)\n",
    "df2=df.tail(cn9-2000)\n",
    "print('\\ncn9,',cn9)\n",
    "print(df2.tail())\n",
    "#\n",
    "\n",
    "#4\n",
    "print('\\n#4,设置训练数据')\n",
    "X=df1['close'].values\n",
    "Y=df1['xopen'].values\n",
    "print(X)\n",
    "print(Y)\n",
    "print(type(X))\n",
    "\n",
    "\n",
    "#5\n",
    "print('\\n#5,构建线性回归神经网络模型')\n",
    "input_ = tflearn.input_data(shape=[None])\n",
    "linear = tflearn.single_unit(input_)\n",
    "regression = tflearn.regression(linear, optimizer='sgd', loss='mean_square',\n",
    "    metric='R2', learning_rate=0.01) \n",
    "m = tflearn.DNN(regression,tensorboard_dir=rlog)\n",
    "\n",
    "\n",
    "\n"
   ]
  },
  {
   "cell_type": "code",
   "execution_count": 8,
   "metadata": {},
   "outputs": [
    {
     "name": "stdout",
     "output_type": "stream",
     "text": [
      "\n",
      "#6,开始训练模型\n"
     ]
    },
    {
     "ename": "IndexError",
     "evalue": "list index out of range",
     "output_type": "error",
     "traceback": [
      "\u001b[0;31m-----------------------------------------------------------------------\u001b[0m",
      "\u001b[0;31mIndexError\u001b[0m                            Traceback (most recent call last)",
      "\u001b[0;32m<ipython-input-8-556cdb0b1fd6>\u001b[0m in \u001b[0;36m<module>\u001b[0;34m\u001b[0m\n\u001b[1;32m      1\u001b[0m \u001b[0;31m#6\u001b[0m\u001b[0;34m\u001b[0m\u001b[0;34m\u001b[0m\u001b[0m\n\u001b[1;32m      2\u001b[0m \u001b[0mprint\u001b[0m\u001b[0;34m(\u001b[0m\u001b[0;34m'\\n#6,开始训练模型'\u001b[0m\u001b[0;34m)\u001b[0m\u001b[0;34m\u001b[0m\u001b[0m\n\u001b[0;32m----> 3\u001b[0;31m \u001b[0mm\u001b[0m\u001b[0;34m.\u001b[0m\u001b[0mfit\u001b[0m\u001b[0;34m(\u001b[0m\u001b[0mX\u001b[0m\u001b[0;34m,\u001b[0m \u001b[0mY\u001b[0m\u001b[0;34m,\u001b[0m \u001b[0mn_epoch\u001b[0m\u001b[0;34m=\u001b[0m\u001b[0;36m100\u001b[0m\u001b[0;34m,\u001b[0m \u001b[0mshow_metric\u001b[0m\u001b[0;34m=\u001b[0m\u001b[0;32mTrue\u001b[0m\u001b[0;34m,\u001b[0m \u001b[0msnapshot_epoch\u001b[0m\u001b[0;34m=\u001b[0m\u001b[0;32mFalse\u001b[0m\u001b[0;34m)\u001b[0m\u001b[0;34m\u001b[0m\u001b[0m\n\u001b[0m\u001b[1;32m      4\u001b[0m \u001b[0;34m\u001b[0m\u001b[0m\n\u001b[1;32m      5\u001b[0m \u001b[0;34m\u001b[0m\u001b[0m\n",
      "\u001b[0;32m~/py3env/lib/python3.6/site-packages/tflearn/models/dnn.py\u001b[0m in \u001b[0;36mfit\u001b[0;34m(self, X_inputs, Y_targets, n_epoch, validation_set, show_metric, batch_size, shuffle, snapshot_epoch, snapshot_step, excl_trainops, validation_batch_size, run_id, callbacks)\u001b[0m\n\u001b[1;32m    182\u001b[0m         \u001b[0;31m# TODO: check memory impact for large data and multiple optimizers\u001b[0m\u001b[0;34m\u001b[0m\u001b[0;34m\u001b[0m\u001b[0m\n\u001b[1;32m    183\u001b[0m         feed_dict = feed_dict_builder(X_inputs, Y_targets, self.inputs,\n\u001b[0;32m--> 184\u001b[0;31m                                       self.targets)\n\u001b[0m\u001b[1;32m    185\u001b[0m         \u001b[0mfeed_dicts\u001b[0m \u001b[0;34m=\u001b[0m \u001b[0;34m[\u001b[0m\u001b[0mfeed_dict\u001b[0m \u001b[0;32mfor\u001b[0m \u001b[0mi\u001b[0m \u001b[0;32min\u001b[0m \u001b[0mself\u001b[0m\u001b[0;34m.\u001b[0m\u001b[0mtrain_ops\u001b[0m\u001b[0;34m]\u001b[0m\u001b[0;34m\u001b[0m\u001b[0m\n\u001b[1;32m    186\u001b[0m         \u001b[0mval_feed_dicts\u001b[0m \u001b[0;34m=\u001b[0m \u001b[0;32mNone\u001b[0m\u001b[0;34m\u001b[0m\u001b[0m\n",
      "\u001b[0;32m~/py3env/lib/python3.6/site-packages/tflearn/utils.py\u001b[0m in \u001b[0;36mfeed_dict_builder\u001b[0;34m(X, Y, net_inputs, net_targets)\u001b[0m\n\u001b[1;32m    281\u001b[0m                 \u001b[0mX\u001b[0m \u001b[0;34m=\u001b[0m \u001b[0;34m[\u001b[0m\u001b[0mX\u001b[0m\u001b[0;34m]\u001b[0m\u001b[0;34m\u001b[0m\u001b[0m\n\u001b[1;32m    282\u001b[0m             \u001b[0;32mfor\u001b[0m \u001b[0mi\u001b[0m\u001b[0;34m,\u001b[0m \u001b[0mx\u001b[0m \u001b[0;32min\u001b[0m \u001b[0menumerate\u001b[0m\u001b[0;34m(\u001b[0m\u001b[0mX\u001b[0m\u001b[0;34m)\u001b[0m\u001b[0;34m:\u001b[0m\u001b[0;34m\u001b[0m\u001b[0m\n\u001b[0;32m--> 283\u001b[0;31m                 \u001b[0mfeed_dict\u001b[0m\u001b[0;34m[\u001b[0m\u001b[0mnet_inputs\u001b[0m\u001b[0;34m[\u001b[0m\u001b[0mi\u001b[0m\u001b[0;34m]\u001b[0m\u001b[0;34m]\u001b[0m \u001b[0;34m=\u001b[0m \u001b[0mx\u001b[0m\u001b[0;34m\u001b[0m\u001b[0m\n\u001b[0m\u001b[1;32m    284\u001b[0m         \u001b[0;32melse\u001b[0m\u001b[0;34m:\u001b[0m\u001b[0;34m\u001b[0m\u001b[0m\n\u001b[1;32m    285\u001b[0m             \u001b[0;31m# If a dict is provided\u001b[0m\u001b[0;34m\u001b[0m\u001b[0;34m\u001b[0m\u001b[0m\n",
      "\u001b[0;31mIndexError\u001b[0m: list index out of range"
     ]
    }
   ],
   "source": [
    "#6\n",
    "print('\\n#6,开始训练模型')\n",
    "m.fit(X, Y, n_epoch=100, show_metric=True, snapshot_epoch=False)\n",
    "\n",
    "\n",
    "#7\n",
    "print('\\n#7,根据模型，进行预测')\n",
    "X2=df2['close'].values\n",
    "Y2=m.predict(X2)\n",
    "#\n",
    "ds2y=zdat.ds4x(Y2,df2.index)\n",
    "df2['open2']= ds2y\n",
    "#\n",
    "print(df2.tail())\n",
    "df2.to_csv('tmp/df2.csv')\n",
    "\n",
    "#9\n",
    "print('\\n#9,ok')\n",
    "\n",
    "\n"
   ]
  },
  {
   "cell_type": "code",
   "execution_count": 3,
   "metadata": {},
   "outputs": [
    {
     "name": "stdout",
     "output_type": "stream",
     "text": [
      "\n",
      "#6,开始训练模型\n",
      "---------------------------------\n",
      "Run id: U3ZU9F\n",
      "Log directory: ailib/log_tmp/\n",
      "---------------------------------\n",
      "Training samples: 20\n",
      "Validation samples: 0\n",
      "--\n",
      "Training Step: 1  | time: 0.019s\n",
      "| SGD | epoch: 001 | loss: 0.00000 -- iter: 20/20\n",
      "--\n",
      "\n",
      "#7,根据模型，进行预测\n",
      "               open     high    close      low       volume        amount    xopen   open2\n",
      "date                                                                                      \n",
      "2017-04-26 3132.918 3152.953 3140.847 3131.418  16987810700  197112873017 3131.350 459.448\n",
      "2017-04-27 3131.350 3155.003 3152.187 3097.333  21179307300  235748319355 3144.022 461.106\n",
      "2017-04-28 3144.022 3154.727 3154.658 3136.578  16288989900  183195769806 3147.228 461.468\n",
      "2017-05-02 3147.228 3154.781 3143.712 3136.539  15422296200  176389916688 3138.307 459.867\n",
      "2017-05-03 3138.307 3148.286 3135.346 3123.751  16376392400  190236600690      nan 458.644\n",
      "\n",
      "#9,ok\n"
     ]
    },
    {
     "name": "stderr",
     "output_type": "stream",
     "text": [
      "/Users/bluegrey/py3env/lib/python3.6/site-packages/ipykernel_launcher.py:12: SettingWithCopyWarning:\n",
      "\n",
      "\n",
      "A value is trying to be set on a copy of a slice from a DataFrame.\n",
      "Try using .loc[row_indexer,col_indexer] = value instead\n",
      "\n",
      "See the caveats in the documentation: http://pandas.pydata.org/pandas-docs/stable/indexing.html#indexing-view-versus-copy\n",
      "\n"
     ]
    }
   ],
   "source": [
    "import random\n",
    "print(X.shape)\n",
    "print(type(Y))\n",
    "\n",
    "all_num = 2000\n",
    "num = 20\n",
    "X=random.sample(range(1,all_num),num)\n",
    "Y=random.sample(range(1,all_num),num)"
   ]
  },
  {
   "cell_type": "code",
   "execution_count": null,
   "metadata": {},
   "outputs": [],
   "source": []
  }
 ],
 "metadata": {
  "kernelspec": {
   "display_name": "py3env",
   "language": "python",
   "name": "py3env"
  },
  "language_info": {
   "codemirror_mode": {
    "name": "ipython",
    "version": 3
   },
   "file_extension": ".py",
   "mimetype": "text/x-python",
   "name": "python",
   "nbconvert_exporter": "python",
   "pygments_lexer": "ipython3",
   "version": "3.6.4"
  }
 },
 "nbformat": 4,
 "nbformat_minor": 4
}
